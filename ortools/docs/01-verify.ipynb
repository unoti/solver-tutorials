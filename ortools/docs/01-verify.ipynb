{
 "cells": [
  {
   "cell_type": "markdown",
   "id": "73dea5bf",
   "metadata": {},
   "source": [
    "# OR-Tools Verification\n",
    "\n",
    "This notebook verifies that OR-Tools is properly installed and working."
   ]
  },
  {
   "cell_type": "code",
   "execution_count": 2,
   "id": "954aac7c",
   "metadata": {},
   "outputs": [],
   "source": [
    "import ortools"
   ]
  },
  {
   "cell_type": "code",
   "execution_count": 1,
   "id": "5c67da9e",
   "metadata": {},
   "outputs": [
    {
     "ename": "ModuleNotFoundError",
     "evalue": "No module named 'ortools.linear_solver'",
     "output_type": "error",
     "traceback": [
      "\u001b[31m---------------------------------------------------------------------------\u001b[39m",
      "\u001b[31mModuleNotFoundError\u001b[39m                       Traceback (most recent call last)",
      "\u001b[36mCell\u001b[39m\u001b[36m \u001b[39m\u001b[32mIn[1]\u001b[39m\u001b[32m, line 2\u001b[39m\n\u001b[32m      1\u001b[39m \u001b[38;5;66;03m# Import OR-Tools\u001b[39;00m\n\u001b[32m----> \u001b[39m\u001b[32m2\u001b[39m \u001b[38;5;28;01mfrom\u001b[39;00m\u001b[38;5;250m \u001b[39m\u001b[34;01mortools\u001b[39;00m\u001b[34;01m.\u001b[39;00m\u001b[34;01mlinear_solver\u001b[39;00m\u001b[38;5;250m \u001b[39m\u001b[38;5;28;01mimport\u001b[39;00m pywraplp\n\u001b[32m      3\u001b[39m \u001b[38;5;28;01mimport\u001b[39;00m\u001b[38;5;250m \u001b[39m\u001b[34;01msys\u001b[39;00m\n\u001b[32m      5\u001b[39m \u001b[38;5;28mprint\u001b[39m(\u001b[33mf\u001b[39m\u001b[33m\"\u001b[39m\u001b[33mPython version: \u001b[39m\u001b[38;5;132;01m{\u001b[39;00msys.version\u001b[38;5;132;01m}\u001b[39;00m\u001b[33m\"\u001b[39m)\n",
      "\u001b[31mModuleNotFoundError\u001b[39m: No module named 'ortools.linear_solver'"
     ]
    }
   ],
   "source": [
    "# Import OR-Tools\n",
    "from ortools.linear_solver import pywraplp\n",
    "import sys\n",
    "\n",
    "print(f\"Python version: {sys.version}\")\n",
    "print(\"OR-Tools imported successfully!\")"
   ]
  },
  {
   "cell_type": "code",
   "execution_count": null,
   "id": "087fe50c",
   "metadata": {},
   "outputs": [],
   "source": [
    "# Simple linear programming example\n",
    "# Create the linear solver with the SCIP backend\n",
    "solver = pywraplp.Solver.CreateSolver('SCIP')\n",
    "\n",
    "if not solver:\n",
    "    print('Could not create solver')\n",
    "else:\n",
    "    print('Solver created successfully!')\n",
    "    print(f'Solver backend: {solver.SolverVersion()}')"
   ]
  }
 ],
 "metadata": {
  "kernelspec": {
   "display_name": "OR-Tools (Python 3.12)",
   "language": "python",
   "name": "ortools"
  },
  "language_info": {
   "codemirror_mode": {
    "name": "ipython",
    "version": 3
   },
   "file_extension": ".py",
   "mimetype": "text/x-python",
   "name": "python",
   "nbconvert_exporter": "python",
   "pygments_lexer": "ipython3",
   "version": "3.12.8"
  }
 },
 "nbformat": 4,
 "nbformat_minor": 5
}
