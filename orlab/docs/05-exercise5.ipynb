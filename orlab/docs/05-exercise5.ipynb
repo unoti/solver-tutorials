{
 "cells": [
  {
   "cell_type": "markdown",
   "id": "80ab33b1",
   "metadata": {},
   "source": [
    "# Exercise 5: Production Schedule"
   ]
  },
  {
   "cell_type": "markdown",
   "id": "877bd22a",
   "metadata": {},
   "source": [
    "Problem statement:"
   ]
  },
  {
   "cell_type": "markdown",
   "id": "816d1f07",
   "metadata": {},
   "source": [
    "## Multi-Product Manufacturing with Setup Costs\n",
    "A specialty electronics manufacturer produces 4 different circuit board types on\n",
    "3 production lines over a 5-day planning horizon. They want to minimize total costs (production + setup).\n",
    "\n",
    "### Production lines:\n",
    "\n",
    "Line A: High precision, $50/hour, 40 hours available per day\n",
    "Line B: Standard quality, $35/hour, 48 hours available per day\n",
    "Line C: High volume, $25/hour, 60 hours available per day\n",
    "\n",
    "### Products & requirements:\n",
    "\n",
    "Premium boards: 2 hours/unit, $200 profit each, can only use Line A\n",
    "Standard boards: 1.5 hours/unit, $120 profit each, can use Line A or B\n",
    "Basic boards: 1 hour/unit, $80 profit each, can use any line\n",
    "Prototype boards: 4 hours/unit, $500 profit each, can only use Line A\n",
    "\n",
    "### Setup costs\n",
    "There are one-time costs if you produce that product on that line.\n",
    "\n",
    "* Premium on Line A: $2,000 setup\n",
    "* Standard on Line A: $1,500 setup, on Line B: $1,000 setup\n",
    "* Basic on any line: $500 setup\n",
    "* Prototype on Line A: $3,000 setup\n",
    "\n",
    "### Customer demands\n",
    "(minimum quantities needed by end of week):\n",
    "\n",
    "* Premium: 50 units\n",
    "* Standard: 80 units\n",
    "* Basic: 200 units\n",
    "* Prototype: 15 units\n",
    "\n",
    "Business rule: Once you start production of a product on a line, you must produce at least 10 units (to justify the setup cost).\n",
    "\n",
    "Goal: Maximize profit (revenue - production costs - setup costs) while meeting all demands."
   ]
  },
  {
   "cell_type": "markdown",
   "id": "9cd93870",
   "metadata": {},
   "source": [
    "## Modelling production lines over time"
   ]
  },
  {
   "cell_type": "markdown",
   "id": "5334d0ae",
   "metadata": {},
   "source": [
    "Let's focus on modelling a single production line, because once we figure that out we can expand that approach to multiple lines."
   ]
  },
  {
   "cell_type": "markdown",
   "id": "880ba4c3",
   "metadata": {},
   "source": [
    "Modelling the time for a single line, seems there are two major ways we might do this. Producing items takes a variety of times including 1 hour, 2 hours, and 1.5 hours."
   ]
  },
  {
   "cell_type": "markdown",
   "id": "76c1e6f1",
   "metadata": {},
   "source": [
    "* **Periods**. We might model time as half-hour chunks, and within each chunk make *N* boolean variables that says whether the line makes each different item.  We'd make a constraint that says that we are only making a single item at a time.  But we'd also need to make a series of constraints that say that once we start making an item, we have to keep making that item for a certain number of periods until it's done.  This would get challenging to make sure there are no gaps."
   ]
  },
  {
   "cell_type": "markdown",
   "id": "3a3c179f",
   "metadata": {},
   "source": [
    "* **Production List.** We could model the first time *t* subscript as the *first item* that the line produces, and the second *t* subscript as the *second item* that the line produces.  A given subscript of *t* could represent an hour if the item it's producing takes an hour, and the second subscript might represent 1.5 hours if the second item takes 1.5 hours.  This will make it much easier to represent the constraints if we take this approach."
   ]
  },
  {
   "cell_type": "markdown",
   "id": "893b23af",
   "metadata": {},
   "source": [
    "## Simple demonstration"
   ]
  },
  {
   "cell_type": "markdown",
   "id": "713d1cb2",
   "metadata": {},
   "source": [
    "Let's try a simple demonstration of the idea with 1 production line and 2 products to demonstrate the idea and work out the basics."
   ]
  },
  {
   "cell_type": "markdown",
   "id": "6d568a04",
   "metadata": {},
   "source": [
    "For this problem let's say:"
   ]
  },
  {
   "cell_type": "markdown",
   "id": "5ce4b474",
   "metadata": {},
   "source": [
    "1. We have 1 production line\n",
    "2. We have 2 products:\n",
    "    * Lamps take 1 hour to make and produce 20 profit.\n",
    "    * Timers take 1.5 hours to make and produce 40 profit.\n",
    "3. We must produce at least 2 lamps and 2 timers.\n",
    "4. We have a single shift of 12 hours.\n",
    "5. Maximize profit.\n",
    "\n",
    "This is a super simple example but will help us figure out the modelling strategy."
   ]
  },
  {
   "cell_type": "code",
   "execution_count": 1,
   "id": "99e80468",
   "metadata": {},
   "outputs": [],
   "source": [
    "from ortools.linear_solver import pywraplp\n",
    "\n",
    "solver = pywraplp.Solver.CreateSolver('SCIP')"
   ]
  },
  {
   "cell_type": "code",
   "execution_count": 2,
   "id": "d808fbdc",
   "metadata": {},
   "outputs": [],
   "source": [
    "all_items = ['lamp', 'timer']\n",
    "profit_by_item = {'lamp': 20, 'timer': 40}\n",
    "periods_by_item = {'lamp': 2, 'timer': 3} # half-hour periods.\n",
    "min_demand_by_item = {'lamp': 2, 'timer': 2}\n",
    "shift_max_periods = 24 # 12 hour total run time max.\n",
    "max_slots = 12 # A \"slot\" here means a thing that we made on the line.\n",
    "all_slots = list(range(max_slots)) # Slot 0 is the first thing we made, slot 1 is the second"
   ]
  },
  {
   "cell_type": "code",
   "execution_count": 3,
   "id": "5063e330",
   "metadata": {},
   "outputs": [],
   "source": [
    "# Decision variables\n",
    "make_vars = {} # Key: (slot, item) - true if we're making this item on the line during this slot.\n",
    "for slot in all_slots:\n",
    "    for item in all_items:\n",
    "        make_vars[slot, item] = solver.BoolVar(f'make_{slot}_{item}')"
   ]
  },
  {
   "cell_type": "code",
   "execution_count": 4,
   "id": "31b9f9d3",
   "metadata": {},
   "outputs": [],
   "source": [
    "# Constraint: can only make one item at a time.\n",
    "for slot in all_slots:\n",
    "    constraint = solver.Constraint(0, 1, 'slot_{slot}_item') # Up to 1 item can be selected.\n",
    "    for item in all_items:\n",
    "        constraint.SetCoefficient(make_vars[slot, item], 1)"
   ]
  },
  {
   "cell_type": "code",
   "execution_count": 5,
   "id": "eb56a307",
   "metadata": {},
   "outputs": [],
   "source": [
    "# Constraint: minimum production quantities\n",
    "infinity = solver.infinity()\n",
    "for item in all_items:\n",
    "    constraint = solver.Constraint(min_demand_by_item[item], infinity, f'min_demand_{item}')\n",
    "    for slot in all_slots:\n",
    "        constraint.SetCoefficient(make_vars[slot, item], 1)"
   ]
  },
  {
   "cell_type": "code",
   "execution_count": 6,
   "id": "89b89c98",
   "metadata": {},
   "outputs": [],
   "source": [
    "# Constraint: total number of periods used must be <= shift_max_periods (12 hour day)\n",
    "constraint = solver.Constraint(0, shift_max_periods, f'shift_max_periods')\n",
    "for item in all_items:\n",
    "    for slot in all_slots:\n",
    "        # If we're making this item in this slot, this is how many periods that will take:\n",
    "        constraint.SetCoefficient(make_vars[slot, item], periods_by_item[item])"
   ]
  },
  {
   "cell_type": "code",
   "execution_count": 7,
   "id": "b480902e",
   "metadata": {},
   "outputs": [],
   "source": [
    "# Objective: Maximize profit\n",
    "objective = solver.Objective()\n",
    "for slot in all_slots:\n",
    "    for item in all_items:\n",
    "        objective.SetCoefficient(make_vars[slot, item], profit_by_item[item])\n",
    "objective.SetMaximization()"
   ]
  },
  {
   "cell_type": "code",
   "execution_count": 8,
   "id": "79a141c1",
   "metadata": {},
   "outputs": [],
   "source": [
    "# Solve\n",
    "result_status = solver.Solve()"
   ]
  },
  {
   "cell_type": "code",
   "execution_count": 9,
   "id": "97aba6ac",
   "metadata": {},
   "outputs": [
    {
     "name": "stdout",
     "output_type": "stream",
     "text": [
      "Solved!\n"
     ]
    }
   ],
   "source": [
    "is_solved = result_status == pywraplp.Solver.OPTIMAL\n",
    "if is_solved:\n",
    "    print('Solved!')\n",
    "else:\n",
    "    print('NOT Solved')"
   ]
  },
  {
   "cell_type": "code",
   "execution_count": 19,
   "id": "7d5eec35",
   "metadata": {},
   "outputs": [
    {
     "name": "stdout",
     "output_type": "stream",
     "text": [
      "Objective value: profit=300.0\n",
      "1. timer\n",
      "2. timer\n",
      "3. timer\n",
      "4. timer\n",
      "5. timer\n",
      "6. timer\n",
      "7. lamp\n",
      "8. lamp\n",
      "9. lamp\n"
     ]
    }
   ],
   "source": [
    "print(f'Objective value: profit={objective.Value()}')\n",
    "for slot in all_slots:\n",
    "    selected_items = [item for item in all_items if make_vars[slot, item].solution_value()]\n",
    "    if not selected_items:\n",
    "        continue\n",
    "    if len(selected_items) > 1:\n",
    "        print('This should not happen! Have more than one item to be made during this slot')\n",
    "    item = selected_items[0]\n",
    "    print(f'{slot+1}. {item}')"
   ]
  },
  {
   "cell_type": "markdown",
   "id": "d56634d0",
   "metadata": {},
   "source": [
    "So we'll be making 6 timers and 3 lamps. This comes out to exactly the duration of our shift."
   ]
  },
  {
   "cell_type": "markdown",
   "id": "65cdbf1d",
   "metadata": {},
   "source": [
    "Another way of thinking about this data structure:"
   ]
  },
  {
   "cell_type": "code",
   "execution_count": 34,
   "id": "4f55a3ed",
   "metadata": {},
   "outputs": [
    {
     "name": "stdout",
     "output_type": "stream",
     "text": [
      "   lamp timer\n",
      " 1. [ ] [x]\n",
      " 2. [ ] [x]\n",
      " 3. [ ] [x]\n",
      " 4. [ ] [x]\n",
      " 5. [ ] [x]\n",
      " 6. [ ] [x]\n",
      " 7. [x] [ ]\n",
      " 8. [x] [ ]\n",
      " 9. [x] [ ]\n",
      "10. [ ] [ ]\n",
      "11. [ ] [ ]\n",
      "12. [ ] [ ]\n"
     ]
    }
   ],
   "source": [
    "print('   ' + ' '.join(all_items))\n",
    "for slot in all_slots:\n",
    "    item_strs = []\n",
    "    for item in all_items:\n",
    "        #print(f'vars[{slot},{item}]={make_vars[slot, item].solution_value()}')\n",
    "        if make_vars[slot, item].solution_value():\n",
    "            item_strs.append('[x]')\n",
    "        else:\n",
    "            item_strs.append('[ ]')\n",
    "    item_line = ' '.join(item_strs)\n",
    "    print(f'{slot + 1:2}. {item_line}')"
   ]
  },
  {
   "cell_type": "markdown",
   "id": "3f06238f",
   "metadata": {},
   "source": [
    "## Modelling Production Line Compatibility"
   ]
  },
  {
   "cell_type": "markdown",
   "id": "4486afe0",
   "metadata": {},
   "source": [
    "I considered a few ways to model the production line compatibility:\n",
    "1. **Normal constraint approach**.  For products that cannot be produced on a given line, we make constraints that say the sum of those decision variables must be zero.  Consider the item \"Premium Boards\" which can only be made on line A.  We can introduce constraints that say that the total production of these boards on line B and C must be zero.  \n",
    "2. **In Production Coefficients**.  When we are going to make an item on a line, we're going to introduce a constraint that says the total items produced >= the demand for that item.  If I line can't manufacture an item, we can multiply it by `can_produce(line, item)` which is 0 or 1, and thus we won't count things in the plan that are produced on an incompatible line. This will make the solver automatically not select these plan items, because they won't satisfy any demand.\n",
    "3. **\"Hard Coded\" Decision Variables**.  If a given line can't produce an item, we can put in a numeric 0 instead of a decision variable.  If we use this technique we'll need to remember to check if a variable is a number instead of a decision variable, and either need to use the value as a number directly, or call `.solution_value()` on it.\n",
    "4. **Sparse Decision Variables**.  The is a variant of solution 3. If we determine that a given line cannot produce a given item, we *don't generate a decision variable for it*.  Then we don't have to make a constraint to eliminate it like we did in solution 1 above.  But we do need to check if `x_vars[line, slot, item] is not None` before we try to use it, since not all of them will be set."
   ]
  },
  {
   "cell_type": "markdown",
   "id": "23fc560c",
   "metadata": {},
   "source": [
    "## Modelling One-Time Setup Costs\n",
    "\n",
    "We have this challenge in the rules of the problem that say that we must pay a one-time setup cost for a given production line if we're going to make any of an item on a production line.\n",
    "\n",
    "To do this, we'll introduce a set of decision variables, one per combination of line + product, which can be either 0 or 1.  Then we'll add constraints to force those values to be turned on if and only if any of the items are made on those lines.\n",
    "\n",
    "In simple terms, we want to introduce a set of variables called `pay_setup[line, item]`. Then we want to do something like `IF make[slot, line, item] = 1 THEN pay_setup[line, item] = 1`.  But unfortunately we can't do that directly, so we have to coax the solver into doing that for us by adding constraints.  There's a trick that's commonly used for one-time setup situations like this as follows.\n",
    "\n",
    "So we'll do 3 steps:\n",
    "1. **Introduce decision variables** `pay_setup[line, item]` which are 0-1 binary variables indicating if we're paying the setup cost on the given line for the given product.\n",
    "2. **Introduce constraints.**  We will make a constraint for every `make[slot, line, item] <= pay_setup[line, item]`. This will force the pay_setup to be set to 1 for the line, item if *any* of the `make[slot, line, item]` are 1.  There's actually a trick we must do here, because we must have all the variables on the left side of the inequality. (If we needed variables on both sides of the inequality this would be quadratic instead of linear.) To do that, subtract `pay_setup` from both sides, which is why you'll see the coefficient go negative. So the constraint we'll actually do will be structured as `make[slot, line, item] - pay_setup[line, item] <= 0`. See more details about this constraint expression below.\n",
    "3. **Add costs to objective function**.  We're actually maximizing profit in this problem, so this means we will need to update our profit objective function to *subtract* the setup costs, by supplying negative coefficients for the setup costs as part of our objective function."
   ]
  },
  {
   "cell_type": "markdown",
   "id": "8549d090",
   "metadata": {},
   "source": [
    "#### The setup cost constraint expression\n",
    "We said that we will create constraints to ensure that we pay the setup costs.\n",
    "`make[slot, line, item] - pay_setup[line, item] <= 0`\n",
    "\n",
    "There are 4 possible values for the `make` and `setup` variables above, since both of those are binary variables:\n",
    "* `0 - 0 = 0` : Not making anything, not paying setup costs\n",
    "* `0 - 1 = -1` : Not making anything, but paid setup costs in another slot\n",
    "* `1 - 0 = 1` : Making something but not paying setup costs. Not OK!\n",
    "* `1 - 1 = 0` : Making something and paying the setup costs\n",
    "\n",
    "To express this constraint, we need to set a minimum and maximum value for the constraint.  When we create a constraint we use code like this:\n",
    "```py\n",
    "constraint = solver.Constraint(min_value, max_value, name)\n",
    "```\n",
    "\n",
    "Note that the min and max values there are *for the expression* not for binary values.  We don't actually care about the minimum value, we can leave that unconstrained.  So we'll pass `-infinity` there to signify to the world that this constraint is not about the lower bound.  We could use -1 there and it would work, but we're using `-infinity` as a signal to the world that we don't care about that half of the constraint.\n",
    "\n",
    "We will however use `0` as the upper bound, to indicate the this **expression** must come out to at most 0.  This will force the solver to pay the setup costs.\n"
   ]
  },
  {
   "cell_type": "markdown",
   "id": "9268c465",
   "metadata": {},
   "source": []
  },
  {
   "cell_type": "markdown",
   "id": "d9f4840e",
   "metadata": {},
   "source": [
    "## Important Discovery: Setup Cost Constraints Need Both Directions\n",
    "\n",
    "After implementing and testing, we discovered that the simple constraint `make[slot, line, item] - pay_setup[line, item] <= 0` is **not sufficient** on its own!\n",
    "\n",
    "The issue is that this constraint only enforces one direction:\n",
    "- **IF** we make something, **THEN** we must pay setup\n",
    "\n",
    "But it doesn't enforce the reverse:\n",
    "- **IF** we don't make anything, **THEN** we should not pay setup\n",
    "\n",
    "### Why the optimization doesn't save us\n",
    "\n",
    "You might think \"the solver is maximizing profit, so it won't pay unnecessary setup costs.\" However, the solver can find multiple optimal solutions, and it might arbitrarily choose one where setup costs are paid even when no production occurs.\n",
    "\n",
    "### The complete solution\n",
    "\n",
    "We need **both** constraints to create a proper logical equivalence:\n",
    "\n",
    "1. **Force setup when producing**: `make[slot, line, part] <= pay_setup[part, line]` for each slot\n",
    "2. **Prevent setup when not producing**: `pay_setup[part, line] <= sum(make[slot, line, part] for all slots)`\n",
    "\n",
    "This creates the logical relationship: `pay_setup[part, line] = 1 ⟺ (total production > 0)`\n",
    "\n",
    "### Implementation\n",
    "\n",
    "```python\n",
    "# Constraint 1: If we make anything, we must pay setup\n",
    "for slot in all_slots:\n",
    "    constraint = solver.Constraint(-infinity, 0, f'setup_force_{line}_{part}_{slot}')\n",
    "    constraint.SetCoefficient(x_vars[slot, line, part], 1)\n",
    "    constraint.SetCoefficient(pay_setup[part, line], -1)\n",
    "\n",
    "# Constraint 2: If we don't make anything, we don't pay setup  \n",
    "constraint = solver.Constraint(-infinity, 0, f'setup_prevent_{line}_{part}')\n",
    "constraint.SetCoefficient(pay_setup[part, line], 1)\n",
    "for slot in all_slots:\n",
    "    constraint.SetCoefficient(x_vars[slot, line, part], -1)\n",
    "```\n",
    "\n",
    "Without both constraints, you may see spurious setup costs being paid for production lines that aren't actually producing that item!"
   ]
  }
 ],
 "metadata": {
  "kernelspec": {
   "display_name": "ortools",
   "language": "python",
   "name": "python3"
  },
  "language_info": {
   "codemirror_mode": {
    "name": "ipython",
    "version": 3
   },
   "file_extension": ".py",
   "mimetype": "text/x-python",
   "name": "python",
   "nbconvert_exporter": "python",
   "pygments_lexer": "ipython3",
   "version": "3.12.8"
  }
 },
 "nbformat": 4,
 "nbformat_minor": 5
}
