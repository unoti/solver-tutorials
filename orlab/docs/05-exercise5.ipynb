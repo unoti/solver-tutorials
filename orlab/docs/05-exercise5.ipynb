{
 "cells": [
  {
   "cell_type": "markdown",
   "id": "80ab33b1",
   "metadata": {},
   "source": [
    "# Exercise 5: Production Schedule"
   ]
  },
  {
   "cell_type": "markdown",
   "id": "877bd22a",
   "metadata": {},
   "source": [
    "Problem statement:"
   ]
  },
  {
   "cell_type": "markdown",
   "id": "816d1f07",
   "metadata": {},
   "source": [
    "## Multi-Product Manufacturing with Setup Costs\n",
    "A specialty electronics manufacturer produces 4 different circuit board types on\n",
    "3 production lines over a 5-day planning horizon. They want to minimize total costs (production + setup).\n",
    "\n",
    "### Production lines:\n",
    "\n",
    "Line A: High precision, $50/hour, 40 hours available per day\n",
    "Line B: Standard quality, $35/hour, 48 hours available per day\n",
    "Line C: High volume, $25/hour, 60 hours available per day\n",
    "\n",
    "### Products & requirements:\n",
    "\n",
    "Premium boards: 2 hours/unit, $200 profit each, can only use Line A\n",
    "Standard boards: 1.5 hours/unit, $120 profit each, can use Line A or B\n",
    "Basic boards: 1 hour/unit, $80 profit each, can use any line\n",
    "Prototype boards: 4 hours/unit, $500 profit each, can only use Line A\n",
    "\n",
    "### Setup costs\n",
    "There are one-time costs if you produce that product on that line.\n",
    "\n",
    "* Premium on Line A: $2,000 setup\n",
    "* Standard on Line A: $1,500 setup, on Line B: $1,000 setup\n",
    "* Basic on any line: $500 setup\n",
    "* Prototype on Line A: $3,000 setup\n",
    "\n",
    "### Customer demands\n",
    "(minimum quantities needed by end of week):\n",
    "\n",
    "* Premium: 50 units\n",
    "* Standard: 80 units\n",
    "* Basic: 200 units\n",
    "* Prototype: 15 units\n",
    "\n",
    "Business rule: Once you start production of a product on a line, you must produce at least 10 units (to justify the setup cost).\n",
    "\n",
    "Goal: Maximize profit (revenue - production costs - setup costs) while meeting all demands."
   ]
  },
  {
   "cell_type": "markdown",
   "id": "9cd93870",
   "metadata": {},
   "source": [
    "## Modelling production lines over time"
   ]
  },
  {
   "cell_type": "markdown",
   "id": "5334d0ae",
   "metadata": {},
   "source": [
    "Let's focus on modelling a single production line, because once we figure that out we can expand that approach to multiple lines."
   ]
  },
  {
   "cell_type": "markdown",
   "id": "880ba4c3",
   "metadata": {},
   "source": [
    "Modelling the time for a single line, seems there are two major ways we might do this. Producing items takes a variety of times including 1 hour, 2 hours, and 1.5 hours."
   ]
  },
  {
   "cell_type": "markdown",
   "id": "76c1e6f1",
   "metadata": {},
   "source": [
    "* **Periods**. We might model time as half-hour chunks, and within each chunk make *N* boolean variables that says whether the line makes each different item.  We'd make a constraint that says that we are only making a single item at a time.  But we'd also need to make a series of constraints that say that once we start making an item, we have to keep making that item for a certain number of periods until it's done.  This would get challenging to make sure there are no gaps."
   ]
  },
  {
   "cell_type": "markdown",
   "id": "3a3c179f",
   "metadata": {},
   "source": [
    "* **Production List.** We could model the first time *t* subscript as the *first item* that the line produces, and the second *t* subscript as the *second item* that the line produces.  A given subscript of *t* could represent an hour if the item it's producing takes an hour, and the second subscript might represent 1.5 hours if the second item takes 1.5 hours.  This will make it much easier to represent the constraints if we take this approach."
   ]
  },
  {
   "cell_type": "markdown",
   "id": "893b23af",
   "metadata": {},
   "source": [
    "## Simple demonstration"
   ]
  },
  {
   "cell_type": "markdown",
   "id": "713d1cb2",
   "metadata": {},
   "source": [
    "Let's try a simple demonstration of the idea with 1 production line and 2 products to demonstrate the idea and work out the basics."
   ]
  },
  {
   "cell_type": "markdown",
   "id": "6d568a04",
   "metadata": {},
   "source": [
    "For this problem let's say:"
   ]
  },
  {
   "cell_type": "markdown",
   "id": "5ce4b474",
   "metadata": {},
   "source": [
    "1. We have 1 production line\n",
    "2. We have 2 products:\n",
    "    * Lamps take 1 hour to make and produce 20 profit.\n",
    "    * Timers take 1.5 hours to make and produce 40 profit.\n",
    "3. We must produce at least 2 lamps and 2 timers.\n",
    "4. We have a single shift of 12 hours.\n",
    "5. Maximize profit.\n",
    "\n",
    "This is a super simple example but will help us figure out the modelling strategy."
   ]
  },
  {
   "cell_type": "code",
   "execution_count": 1,
   "id": "99e80468",
   "metadata": {},
   "outputs": [],
   "source": [
    "from ortools.linear_solver import pywraplp\n",
    "\n",
    "solver = pywraplp.Solver.CreateSolver('SCIP')"
   ]
  },
  {
   "cell_type": "code",
   "execution_count": 2,
   "id": "d808fbdc",
   "metadata": {},
   "outputs": [],
   "source": [
    "all_items = ['lamp', 'timer']\n",
    "profit_by_item = {'lamp': 20, 'timer': 40}\n",
    "periods_by_item = {'lamp': 2, 'timer': 3} # half-hour periods.\n",
    "min_demand_by_item = {'lamp': 2, 'timer': 2}\n",
    "shift_max_periods = 24 # 12 hour total run time max.\n",
    "max_slots = 12 # A \"slot\" here means a thing that we made on the line.\n",
    "all_slots = list(range(max_slots)) # Slot 0 is the first thing we made, slot 1 is the second"
   ]
  },
  {
   "cell_type": "code",
   "execution_count": 3,
   "id": "5063e330",
   "metadata": {},
   "outputs": [],
   "source": [
    "# Decision variables\n",
    "make_vars = {} # Key: (slot, item) - true if we're making this item on the line during this slot.\n",
    "for slot in all_slots:\n",
    "    for item in all_items:\n",
    "        make_vars[slot, item] = solver.BoolVar(f'make_{slot}_{item}')"
   ]
  },
  {
   "cell_type": "code",
   "execution_count": 4,
   "id": "31b9f9d3",
   "metadata": {},
   "outputs": [],
   "source": [
    "# Constraint: can only make one item at a time.\n",
    "for slot in all_slots:\n",
    "    constraint = solver.Constraint(0, 1, 'slot_{slot}_item') # Up to 1 item can be selected.\n",
    "    for item in all_items:\n",
    "        constraint.SetCoefficient(make_vars[slot, item], 1)"
   ]
  },
  {
   "cell_type": "code",
   "execution_count": 5,
   "id": "eb56a307",
   "metadata": {},
   "outputs": [],
   "source": [
    "# Constraint: minimum production quantities\n",
    "infinity = solver.infinity()\n",
    "for item in all_items:\n",
    "    constraint = solver.Constraint(min_demand_by_item[item], infinity, f'min_demand_{item}')\n",
    "    for slot in all_slots:\n",
    "        constraint.SetCoefficient(make_vars[slot, item], 1)"
   ]
  },
  {
   "cell_type": "code",
   "execution_count": 6,
   "id": "89b89c98",
   "metadata": {},
   "outputs": [],
   "source": [
    "# Constraint: total number of periods used must be <= shift_max_periods (12 hour day)\n",
    "constraint = solver.Constraint(0, shift_max_periods, f'shift_max_periods')\n",
    "for item in all_items:\n",
    "    for slot in all_slots:\n",
    "        # If we're making this item in this slot, this is how many periods that will take:\n",
    "        constraint.SetCoefficient(make_vars[slot, item], periods_by_item[item])"
   ]
  },
  {
   "cell_type": "code",
   "execution_count": 7,
   "id": "b480902e",
   "metadata": {},
   "outputs": [],
   "source": [
    "# Objective: Maximize profit\n",
    "objective = solver.Objective()\n",
    "for slot in all_slots:\n",
    "    for item in all_items:\n",
    "        objective.SetCoefficient(make_vars[slot, item], profit_by_item[item])\n",
    "objective.SetMaximization()"
   ]
  },
  {
   "cell_type": "code",
   "execution_count": null,
   "id": "79a141c1",
   "metadata": {},
   "outputs": [],
   "source": [
    "# Solve\n",
    "result_status = solver.Solve()"
   ]
  },
  {
   "cell_type": "code",
   "execution_count": 9,
   "id": "97aba6ac",
   "metadata": {},
   "outputs": [
    {
     "name": "stdout",
     "output_type": "stream",
     "text": [
      "Solved!\n"
     ]
    }
   ],
   "source": [
    "is_solved = result_status == pywraplp.Solver.OPTIMAL\n",
    "if is_solved:\n",
    "    print('Solved!')\n",
    "else:\n",
    "    print('NOT Solved')"
   ]
  },
  {
   "cell_type": "code",
   "execution_count": 19,
   "id": "7d5eec35",
   "metadata": {},
   "outputs": [
    {
     "name": "stdout",
     "output_type": "stream",
     "text": [
      "Objective value: profit=300.0\n",
      "1. timer\n",
      "2. timer\n",
      "3. timer\n",
      "4. timer\n",
      "5. timer\n",
      "6. timer\n",
      "7. lamp\n",
      "8. lamp\n",
      "9. lamp\n"
     ]
    }
   ],
   "source": [
    "print(f'Objective value: profit={objective.Value()}')\n",
    "for slot in all_slots:\n",
    "    selected_items = [item for item in all_items if make_vars[slot, item].solution_value()]\n",
    "    if not selected_items:\n",
    "        continue\n",
    "    if len(selected_items) > 1:\n",
    "        print('This should not happen! Have more than one item to be made during this slot')\n",
    "    item = selected_items[0]\n",
    "    print(f'{slot+1}. {item}')"
   ]
  },
  {
   "cell_type": "markdown",
   "id": "d56634d0",
   "metadata": {},
   "source": [
    "So we'll be making 6 timers and 3 lamps. This comes out to exactly the duration of our shift."
   ]
  },
  {
   "cell_type": "markdown",
   "id": "65cdbf1d",
   "metadata": {},
   "source": []
  }
 ],
 "metadata": {
  "kernelspec": {
   "display_name": "ortools",
   "language": "python",
   "name": "python3"
  },
  "language_info": {
   "codemirror_mode": {
    "name": "ipython",
    "version": 3
   },
   "file_extension": ".py",
   "mimetype": "text/x-python",
   "name": "python",
   "nbconvert_exporter": "python",
   "pygments_lexer": "ipython3",
   "version": "3.12.8"
  }
 },
 "nbformat": 4,
 "nbformat_minor": 5
}
