{
 "cells": [
  {
   "cell_type": "markdown",
   "id": "73dea5bf",
   "metadata": {},
   "source": [
    "# OR-Tools Verification\n",
    "\n",
    "This notebook verifies that OR-Tools is properly installed and working."
   ]
  },
  {
   "cell_type": "code",
   "execution_count": 1,
   "id": "954aac7c",
   "metadata": {},
   "outputs": [],
   "source": [
    "import ortools"
   ]
  },
  {
   "cell_type": "code",
   "execution_count": null,
   "id": "7a873b3a",
   "metadata": {},
   "outputs": [],
   "source": [
    "from ortools.init.python import init\n",
    "from ortools.linear_solver import pywraplp"
   ]
  }
 ],
 "metadata": {
  "kernelspec": {
   "display_name": "ortools",
   "language": "python",
   "name": "python3"
  },
  "language_info": {
   "codemirror_mode": {
    "name": "ipython",
    "version": 3
   },
   "file_extension": ".py",
   "mimetype": "text/x-python",
   "name": "python",
   "nbconvert_exporter": "python",
   "pygments_lexer": "ipython3",
   "version": "3.12.8"
  }
 },
 "nbformat": 4,
 "nbformat_minor": 5
}
