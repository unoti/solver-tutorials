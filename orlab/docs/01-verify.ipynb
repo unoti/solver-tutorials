{
 "cells": [
  {
   "cell_type": "markdown",
   "id": "73dea5bf",
   "metadata": {},
   "source": [
    "# OR-Tools Verification\n",
    "\n",
    "This notebook verifies that OR-Tools is properly installed and working."
   ]
  },
  {
   "cell_type": "code",
   "execution_count": 1,
   "id": "954aac7c",
   "metadata": {},
   "outputs": [],
   "source": [
    "import ortools"
   ]
  },
  {
   "cell_type": "code",
   "execution_count": null,
   "id": "7a873b3a",
   "metadata": {},
   "outputs": [],
   "source": [
    "from ortools.init.python import init\n",
    "from ortools.linear_solver import pywraplp"
   ]
  },
  {
   "cell_type": "markdown",
   "id": "41ce62a0",
   "metadata": {},
   "source": [
    "## Simple Example\n",
    "This is from [OR-Tools Python Getting Started Guide](https://developers.google.com/optimization/introduction/python).\n"
   ]
  },
  {
   "cell_type": "markdown",
   "id": "8498d28b",
   "metadata": {},
   "source": [
    "Our goal is to Maximize `3x + y` with these constraints:\n",
    "* `x` is between 0 and 1, inclusive\n",
    "* `y` is between 0 and 2, inclusive\n",
    "* `x + y` <= 2\n",
    "\n",
    "Both the objective function and the constraints are linear expressions, which makes this a linear problem."
   ]
  },
  {
   "cell_type": "markdown",
   "id": "0b117f66",
   "metadata": {},
   "source": [
    "### Steps\n",
    "We'll repeat these steps whenever we solve a problem.\n",
    "1. Import libraries\n",
    "2. Declare solver\n",
    "3. Create variables\n",
    "4. Define constraints\n",
    "5. Define objective function\n",
    "6. Solve\n",
    "7. Output results"
   ]
  },
  {
   "cell_type": "markdown",
   "id": "b82e74b3",
   "metadata": {},
   "source": [
    "### Libraries"
   ]
  },
  {
   "cell_type": "code",
   "execution_count": 4,
   "id": "8172f224",
   "metadata": {},
   "outputs": [],
   "source": [
    "from ortools.init.python import init\n",
    "from ortools.linear_solver import pywraplp"
   ]
  },
  {
   "cell_type": "markdown",
   "id": "c503f585",
   "metadata": {},
   "source": [
    "### Solver\n",
    "We'll be using GLOP here which is the OR-Tool linear solver."
   ]
  },
  {
   "cell_type": "code",
   "execution_count": 7,
   "id": "48bced5d",
   "metadata": {},
   "outputs": [
    {
     "data": {
      "text/plain": [
       "<ortools.linear_solver.pywraplp.Solver; proxy of <Swig Object of type 'operations_research::MPSolver *' at 0x000001C5598ECA20> >"
      ]
     },
     "execution_count": 7,
     "metadata": {},
     "output_type": "execute_result"
    }
   ],
   "source": [
    "solver = pywraplp.Solver.CreateSolver('GLOP')\n",
    "solver"
   ]
  },
  {
   "cell_type": "markdown",
   "id": "0f0a86f3",
   "metadata": {},
   "source": [
    "### Create variables\n",
    "These are the decision variables that the solver will be determining."
   ]
  },
  {
   "cell_type": "code",
   "execution_count": 9,
   "id": "d87869bb",
   "metadata": {},
   "outputs": [
    {
     "data": {
      "text/plain": [
       "4"
      ]
     },
     "execution_count": 9,
     "metadata": {},
     "output_type": "execute_result"
    }
   ],
   "source": [
    "x_var = solver.NumVar(0, 1, 'x') # Also declares constraint: 0 <= x <= 1\n",
    "y_var = solver.NumVar(0, 2, 'y') # Also declares constraint: 0 <= y <= 2\n",
    "\n",
    "solver.NumVariables()"
   ]
  },
  {
   "cell_type": "markdown",
   "id": "07f84c41",
   "metadata": {},
   "source": [
    "### Constraints\n",
    "\n",
    "Our first 2 constraints, the ones that limit the possible values for x and y, were already done for us with the way we declared the variables.\n",
    "\n",
    "So now we need to do the constraint `x + y <= 2`:"
   ]
  },
  {
   "cell_type": "code",
   "execution_count": 10,
   "id": "2d828048",
   "metadata": {},
   "outputs": [
    {
     "ename": "NameError",
     "evalue": "name 'infinity' is not defined",
     "output_type": "error",
     "traceback": [
      "\u001b[31m---------------------------------------------------------------------------\u001b[39m",
      "\u001b[31mNameError\u001b[39m                                 Traceback (most recent call last)",
      "\u001b[36mCell\u001b[39m\u001b[36m \u001b[39m\u001b[32mIn[10]\u001b[39m\u001b[32m, line 1\u001b[39m\n\u001b[32m----> \u001b[39m\u001b[32m1\u001b[39m constraint = solver.Constraint(-\u001b[43minfinity\u001b[49m, \u001b[32m2\u001b[39m, \u001b[33m'\u001b[39m\u001b[33mc2\u001b[39m\u001b[33m'\u001b[39m)\n",
      "\u001b[31mNameError\u001b[39m: name 'infinity' is not defined"
     ]
    }
   ],
   "source": [
    "constraint = solver.Constraint(-infinity, 2, 'c2')"
   ]
  },
  {
   "cell_type": "code",
   "execution_count": null,
   "id": "4f408b53",
   "metadata": {},
   "outputs": [],
   "source": []
  }
 ],
 "metadata": {
  "kernelspec": {
   "display_name": "ortools",
   "language": "python",
   "name": "python3"
  },
  "language_info": {
   "codemirror_mode": {
    "name": "ipython",
    "version": 3
   },
   "file_extension": ".py",
   "mimetype": "text/x-python",
   "name": "python",
   "nbconvert_exporter": "python",
   "pygments_lexer": "ipython3",
   "version": "3.12.8"
  }
 },
 "nbformat": 4,
 "nbformat_minor": 5
}
