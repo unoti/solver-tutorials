{
 "cells": [
  {
   "cell_type": "markdown",
   "id": "73dea5bf",
   "metadata": {},
   "source": [
    "# OR-Tools Verification\n",
    "\n",
    "This notebook verifies that OR-Tools is properly installed and working by running a very simple linear example."
   ]
  },
  {
   "cell_type": "code",
   "execution_count": 1,
   "id": "954aac7c",
   "metadata": {},
   "outputs": [],
   "source": [
    "import ortools"
   ]
  },
  {
   "cell_type": "code",
   "execution_count": 2,
   "id": "7a873b3a",
   "metadata": {},
   "outputs": [],
   "source": [
    "from ortools.init.python import init\n",
    "from ortools.linear_solver import pywraplp"
   ]
  },
  {
   "cell_type": "markdown",
   "id": "41ce62a0",
   "metadata": {},
   "source": [
    "## Simple Example\n",
    "This is from [OR-Tools Python Getting Started Guide](https://developers.google.com/optimization/introduction/python).\n"
   ]
  },
  {
   "cell_type": "markdown",
   "id": "8498d28b",
   "metadata": {},
   "source": [
    "Our goal is to Maximize `3x + y` with these constraints:\n",
    "* `x` is between 0 and 1, inclusive\n",
    "* `y` is between 0 and 2, inclusive\n",
    "* `x + y` <= 2\n",
    "\n",
    "Both the objective function and the constraints are linear expressions, which makes this a linear problem."
   ]
  },
  {
   "cell_type": "markdown",
   "id": "0b117f66",
   "metadata": {},
   "source": [
    "### Steps\n",
    "We'll repeat these steps whenever we solve a problem.\n",
    "1. Import libraries\n",
    "2. Declare solver\n",
    "3. Create variables\n",
    "4. Define constraints\n",
    "5. Define objective function\n",
    "6. Solve\n",
    "7. Output results"
   ]
  },
  {
   "cell_type": "markdown",
   "id": "b82e74b3",
   "metadata": {},
   "source": [
    "### Libraries"
   ]
  },
  {
   "cell_type": "code",
   "execution_count": 3,
   "id": "8172f224",
   "metadata": {},
   "outputs": [],
   "source": [
    "from ortools.init.python import init\n",
    "from ortools.linear_solver import pywraplp"
   ]
  },
  {
   "cell_type": "markdown",
   "id": "c503f585",
   "metadata": {},
   "source": [
    "### Solver\n",
    "We'll be using GLOP here which is the OR-Tool linear solver."
   ]
  },
  {
   "cell_type": "code",
   "execution_count": 4,
   "id": "48bced5d",
   "metadata": {},
   "outputs": [
    {
     "data": {
      "text/plain": [
       "<ortools.linear_solver.pywraplp.Solver; proxy of <Swig Object of type 'operations_research::MPSolver *' at 0x00000184192CC120> >"
      ]
     },
     "execution_count": 4,
     "metadata": {},
     "output_type": "execute_result"
    }
   ],
   "source": [
    "solver = pywraplp.Solver.CreateSolver('GLOP')\n",
    "solver"
   ]
  },
  {
   "cell_type": "markdown",
   "id": "0f0a86f3",
   "metadata": {},
   "source": [
    "### Create variables\n",
    "These are the decision variables that the solver will be determining."
   ]
  },
  {
   "cell_type": "code",
   "execution_count": 5,
   "id": "d87869bb",
   "metadata": {},
   "outputs": [
    {
     "data": {
      "text/plain": [
       "2"
      ]
     },
     "execution_count": 5,
     "metadata": {},
     "output_type": "execute_result"
    }
   ],
   "source": [
    "x_var = solver.NumVar(0, 1, 'x') # Also declares constraint: 0 <= x <= 1\n",
    "y_var = solver.NumVar(0, 2, 'y') # Also declares constraint: 0 <= y <= 2\n",
    "\n",
    "solver.NumVariables()"
   ]
  },
  {
   "cell_type": "markdown",
   "id": "07f84c41",
   "metadata": {},
   "source": [
    "### Constraints\n",
    "\n",
    "Our first 2 constraints, the ones that limit the possible values for x and y, were already done for us with the way we declared the variables.\n",
    "\n",
    "So now we need to do the constraint `x + y <= 2`.\n",
    "\n",
    "Whenever you add a constraint to the solver, you're implicitly creating a linear constant in this form:\n",
    "> lower_bound <= (sum of coefficients * variable) <= upper_bound\n",
    "\n",
    "So to make this constraint we need to specify the upper and lower bound, and give it a list of things to sum."
   ]
  },
  {
   "cell_type": "code",
   "execution_count": null,
   "id": "2d828048",
   "metadata": {},
   "outputs": [
    {
     "data": {
      "text/plain": [
       "1"
      ]
     },
     "execution_count": 6,
     "metadata": {},
     "output_type": "execute_result"
    }
   ],
   "source": [
    "# Here's how we add the constraint x + y <= 2:\n",
    "infinity = solver.infinity()\n",
    "constraint = solver.Constraint(-infinity, 2, 'ct') # This specifies the lower and upper bound.\n",
    "constraint.SetCoefficient(x_var, 1) # Adds: 1 * x_var\n",
    "constraint.SetCoefficient(y_var, 1) # Adds: 1 * y_var\n",
    "# The `+` is implicit. So this means x + y <= 2.\n",
    "\n",
    "solver.NumConstraints()"
   ]
  },
  {
   "cell_type": "markdown",
   "id": "e95bd9f6",
   "metadata": {},
   "source": [
    "### Objective Function\n",
    "\n",
    "The object function is the function we're trying to optimize for, in this case we want to **maximize** `3x + y`."
   ]
  },
  {
   "cell_type": "code",
   "execution_count": 8,
   "id": "4f408b53",
   "metadata": {},
   "outputs": [],
   "source": [
    "# Objective function: maximize 3x + y\n",
    "objective = solver.Objective()\n",
    "objective.SetCoefficient(x_var, 3) # Adds term 3 * x_var\n",
    "objective.SetCoefficient(y_var, 1) # Adds term 1 * y_var\n",
    "objective.SetMaximization()"
   ]
  },
  {
   "cell_type": "markdown",
   "id": "d7c7641f",
   "metadata": {},
   "source": [
    "### Invoke Solver"
   ]
  },
  {
   "cell_type": "code",
   "execution_count": 11,
   "id": "f327c3ac",
   "metadata": {},
   "outputs": [],
   "source": [
    "result_status = solver.Solve()"
   ]
  },
  {
   "cell_type": "markdown",
   "id": "88276cdb",
   "metadata": {},
   "source": [
    "### Show Results"
   ]
  },
  {
   "cell_type": "code",
   "execution_count": 13,
   "id": "86821a8c",
   "metadata": {},
   "outputs": [
    {
     "name": "stdout",
     "output_type": "stream",
     "text": [
      "Solved! Solution:\n",
      "Objective value = 4.0\n",
      "x = 1.0\n",
      "y = 1.0\n"
     ]
    }
   ],
   "source": [
    "is_solved = result_status == pywraplp.Solver.OPTIMAL\n",
    "is_feasible = result_status != pywraplp.Solver.INFEASIBLE\n",
    "if is_solved:\n",
    "    print('Solved! Solution:')\n",
    "    print('Objective value =', objective.Value())\n",
    "    print('x =', x_var.solution_value())\n",
    "    print('y =', y_var.solution_value())"
   ]
  },
  {
   "cell_type": "code",
   "execution_count": null,
   "id": "0d9948a0",
   "metadata": {},
   "outputs": [],
   "source": []
  }
 ],
 "metadata": {
  "kernelspec": {
   "display_name": "ortools",
   "language": "python",
   "name": "python3"
  },
  "language_info": {
   "codemirror_mode": {
    "name": "ipython",
    "version": 3
   },
   "file_extension": ".py",
   "mimetype": "text/x-python",
   "name": "python",
   "nbconvert_exporter": "python",
   "pygments_lexer": "ipython3",
   "version": "3.12.8"
  }
 },
 "nbformat": 4,
 "nbformat_minor": 5
}
