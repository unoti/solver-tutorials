{
 "cells": [
  {
   "cell_type": "markdown",
   "id": "c64ac4ea",
   "metadata": {},
   "source": [
    "# Equations in OR-Tools"
   ]
  },
  {
   "cell_type": "markdown",
   "id": "de7bd31a",
   "metadata": {},
   "source": [
    "This notebook explores additional ways to model equations in OR Tools."
   ]
  },
  {
   "cell_type": "code",
   "execution_count": 28,
   "id": "47dc8f86",
   "metadata": {},
   "outputs": [],
   "source": [
    "from ortools.linear_solver import pywraplp\n",
    "import pandas as pd"
   ]
  },
  {
   "cell_type": "markdown",
   "id": "d84da8c8",
   "metadata": {},
   "source": [
    "In this simple example, we have 3 liquid tanks, each with a different capacity.  Each of the tanks has an amount of starting liquid in it at the start.  We would like the tanks to be as close to 90% full as we can.  We need to choose exactly one of the tanks to add some liquid to, and all of the newly added liquid must go into exactly one of the tanks.  Also each of the tanks has a max level for safety that has been established by the mechanical engineers."
   ]
  },
  {
   "cell_type": "markdown",
   "id": "e9d3104f",
   "metadata": {},
   "source": [
    "Let's design some data so that when we see the solution we know it did the right thing:"
   ]
  },
  {
   "cell_type": "code",
   "execution_count": 20,
   "id": "6beec4b8",
   "metadata": {},
   "outputs": [
    {
     "data": {
      "text/html": [
       "<div>\n",
       "<style scoped>\n",
       "    .dataframe tbody tr th:only-of-type {\n",
       "        vertical-align: middle;\n",
       "    }\n",
       "\n",
       "    .dataframe tbody tr th {\n",
       "        vertical-align: top;\n",
       "    }\n",
       "\n",
       "    .dataframe thead th {\n",
       "        text-align: right;\n",
       "    }\n",
       "</style>\n",
       "<table border=\"1\" class=\"dataframe\">\n",
       "  <thead>\n",
       "    <tr style=\"text-align: right;\">\n",
       "      <th></th>\n",
       "      <th>capacity</th>\n",
       "      <th>max_level</th>\n",
       "      <th>current_level</th>\n",
       "      <th>target_level</th>\n",
       "      <th>available_volume</th>\n",
       "      <th>notes</th>\n",
       "    </tr>\n",
       "  </thead>\n",
       "  <tbody>\n",
       "    <tr>\n",
       "      <th>0</th>\n",
       "      <td>100</td>\n",
       "      <td>95</td>\n",
       "      <td>20</td>\n",
       "      <td>90.0</td>\n",
       "      <td>70.0</td>\n",
       "      <td>Add 67: comprised of 11 + 56</td>\n",
       "    </tr>\n",
       "    <tr>\n",
       "      <th>1</th>\n",
       "      <td>100</td>\n",
       "      <td>95</td>\n",
       "      <td>0</td>\n",
       "      <td>90.0</td>\n",
       "      <td>90.0</td>\n",
       "      <td>Add 40</td>\n",
       "    </tr>\n",
       "    <tr>\n",
       "      <th>2</th>\n",
       "      <td>100</td>\n",
       "      <td>95</td>\n",
       "      <td>85</td>\n",
       "      <td>90.0</td>\n",
       "      <td>5.0</td>\n",
       "      <td>Add 2</td>\n",
       "    </tr>\n",
       "  </tbody>\n",
       "</table>\n",
       "</div>"
      ],
      "text/plain": [
       "   capacity  max_level  current_level  target_level  available_volume  \\\n",
       "0       100         95             20          90.0              70.0   \n",
       "1       100         95              0          90.0              90.0   \n",
       "2       100         95             85          90.0               5.0   \n",
       "\n",
       "                          notes  \n",
       "0  Add 67: comprised of 11 + 56  \n",
       "1                        Add 40  \n",
       "2                         Add 2  "
      ]
     },
     "execution_count": 20,
     "metadata": {},
     "output_type": "execute_result"
    }
   ],
   "source": [
    "target_fill_ratio = 0.9\n",
    "tanks_df = pd.DataFrame({\n",
    "    'capacity': [100, 100, 100],\n",
    "    'max_level': 95,\n",
    "    'current_level': [20, 0, 85],\n",
    "})\n",
    "tanks_df['target_level'] = target_fill_ratio * tanks_df.capacity\n",
    "tanks_df['available_volume'] = tanks_df.target_level - tanks_df.current_level\n",
    "tanks_df['notes'] = [\n",
    "        'Add 67: comprised of 11 + 56',\n",
    "        'Add 40',\n",
    "        'Add 2',\n",
    "    ]\n",
    "\n",
    "tanks_df"
   ]
  },
  {
   "cell_type": "code",
   "execution_count": 24,
   "id": "a2aae798",
   "metadata": {},
   "outputs": [],
   "source": [
    "tank_capacities = [100, 100, 100]\n",
    "current_fill_levels = [20, 0, 85]\n",
    "max_fill_levels = [95, 95, 95]\n",
    "target_fill_ratio = 0.9  # We want the tanks 90% full to the extent we can.\n",
    "all_tanks = range(len(tank_capacities))\n",
    "\n",
    "all_demands = [11, 56, 40, 2] # The proposed demands design to fit into particular tanks.\n",
    "expected_tanks = [0, 0, 1, 2] # The tank numbers we expect these to go to, for checking"
   ]
  },
  {
   "cell_type": "code",
   "execution_count": 29,
   "id": "ca32c747",
   "metadata": {},
   "outputs": [],
   "source": [
    "model = pywraplp.Solver.CreateSolver(\"CBC\")"
   ]
  },
  {
   "cell_type": "code",
   "execution_count": 30,
   "id": "c6254d30",
   "metadata": {},
   "outputs": [],
   "source": [
    "# Decision variables\n",
    "x_vars = {} # x_vars[demand, tank]: For each demand, which tank do we put it in\n",
    "for demand in all_demands:\n",
    "    for tank in all_tanks:\n",
    "        x_vars[demand, tank] = model.BoolVar(f'fill_{demand}_{tank}')\n"
   ]
  },
  {
   "cell_type": "code",
   "execution_count": 33,
   "id": "81315cb6",
   "metadata": {},
   "outputs": [],
   "source": [
    "# Constraint: Only one tank is chosen per demand\n",
    "for demand in all_demands:\n",
    "    tanks_used = [x_vars[demand, tank] for tank in all_tanks]\n",
    "    model.Add(sum(tanks_used) == 1)"
   ]
  },
  {
   "cell_type": "code",
   "execution_count": null,
   "id": "d484a047",
   "metadata": {},
   "outputs": [],
   "source": [
    "# Objective: get tanks close to target level\n",
    "tank_deviations = []"
   ]
  },
  {
   "cell_type": "markdown",
   "id": "2d9238e0",
   "metadata": {},
   "source": [
    "We want to model `deviation = abs(target_level - fill_level)`, but we are also trying to keep things linear.  `abs()` is not linear, so we need to do a trick to allow us to model this.  The trick is to introduce an extra decision variable for each tank `deviation` and bind it to the absolute value with two inequalities which *are* linear:\n",
    "* *deviation* >= *expr*\n",
    "* *deviation* >= *-expr*\n",
    "\n",
    "Now if we minimize `deviation` that will be equivalent to minimizing `|expr|`."
   ]
  },
  {
   "cell_type": "code",
   "execution_count": null,
   "id": "0145bacf",
   "metadata": {},
   "outputs": [],
   "source": []
  },
  {
   "cell_type": "markdown",
   "id": "ccaa5d90",
   "metadata": {},
   "source": [
    "\n"
   ]
  }
 ],
 "metadata": {
  "kernelspec": {
   "display_name": "ortools",
   "language": "python",
   "name": "python3"
  },
  "language_info": {
   "codemirror_mode": {
    "name": "ipython",
    "version": 3
   },
   "file_extension": ".py",
   "mimetype": "text/x-python",
   "name": "python",
   "nbconvert_exporter": "python",
   "pygments_lexer": "ipython3",
   "version": "3.12.8"
  }
 },
 "nbformat": 4,
 "nbformat_minor": 5
}
