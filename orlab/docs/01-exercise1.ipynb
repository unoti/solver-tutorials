{
 "cells": [
  {
   "cell_type": "markdown",
   "id": "0a4a8803",
   "metadata": {},
   "source": [
    "# Exercise 1"
   ]
  },
  {
   "cell_type": "markdown",
   "id": "d11c89f6",
   "metadata": {},
   "source": [
    "Problem: A bakery wants to maximize profit from making cookies and cakes.\n",
    "- Each cookie gives $3 profit and takes 1 hour to make\n",
    "- Each cake gives $5 profit and takes 2 hours to make  \n",
    "- The bakery has 8 hours available per day\n",
    "- They can make at most 5 cookies per day (due to oven space)\n",
    "\n",
    "Question: How many cookies and cakes should they make to maximize profit?\n",
    "\n",
    "Mathematical formulation:\n",
    "- Decision variables: x = cookies, y = cakes\n",
    "- Objective: Maximize 3x + 5y (profit)\n",
    "- Constraints: \n",
    "  * 1x + 2y ≤ 8 (time constraint)\n",
    "  * x ≤ 5 (cookie limit)\n",
    "  * x ≥ 0, y ≥ 0 (non-negativity)"
   ]
  },
  {
   "cell_type": "markdown",
   "id": "e424d79c",
   "metadata": {},
   "source": []
  }
 ],
 "metadata": {
  "kernelspec": {
   "display_name": "ortools",
   "language": "python",
   "name": "python3"
  },
  "language_info": {
   "name": "python",
   "version": "3.12.8"
  }
 },
 "nbformat": 4,
 "nbformat_minor": 5
}
