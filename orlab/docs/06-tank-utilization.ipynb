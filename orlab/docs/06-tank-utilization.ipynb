{
 "cells": [
  {
   "cell_type": "markdown",
   "id": "c64ac4ea",
   "metadata": {},
   "source": [
    "# Equations in OR-Tools"
   ]
  },
  {
   "cell_type": "markdown",
   "id": "de7bd31a",
   "metadata": {},
   "source": [
    "This notebook explores additional ways to model equations in OR Tools."
   ]
  },
  {
   "cell_type": "code",
   "execution_count": 1,
   "id": "47dc8f86",
   "metadata": {},
   "outputs": [],
   "source": [
    "import random\n",
    "from typing import List\n",
    "\n",
    "from ortools.linear_solver import pywraplp\n",
    "import pandas as pd\n",
    "from orlab.exercise6 import tank_solve"
   ]
  },
  {
   "cell_type": "markdown",
   "id": "d84da8c8",
   "metadata": {},
   "source": [
    "In this simple example, we have 3 liquid tanks, each with a different capacity.  Each of the tanks has an amount of starting liquid in it at the start.  We would like the tanks to be as close to 90% full as we can.  We need to choose exactly one of the tanks to add some liquid to, and all of the newly added liquid must go into exactly one of the tanks.  Also each of the tanks has a max level for safety that has been established by the mechanical engineers."
   ]
  },
  {
   "cell_type": "markdown",
   "id": "2d9238e0",
   "metadata": {},
   "source": [
    "We want to model `deviation = abs(target_level - fill_level)`, but we are also trying to keep things linear for our modelling of the problem.  `abs()` is not linear, so we need to do a trick to allow us to model this.  The trick is to introduce an extra decision variable for each tank `deviation` and bind it to the absolute value with two inequalities which *are* linear:\n",
    "* *deviation* >= *expr*\n",
    "* *deviation* >= *-expr*\n",
    "\n",
    "Now if we minimize `deviation` that will be equivalent to minimizing `|expr|`."
   ]
  },
  {
   "cell_type": "markdown",
   "id": "e9d3104f",
   "metadata": {},
   "source": [
    "Let's design some data so that when we see the solution we know it did the right thing:"
   ]
  },
  {
   "cell_type": "code",
   "execution_count": 2,
   "id": "6beec4b8",
   "metadata": {},
   "outputs": [
    {
     "data": {
      "text/html": [
       "<div>\n",
       "<style scoped>\n",
       "    .dataframe tbody tr th:only-of-type {\n",
       "        vertical-align: middle;\n",
       "    }\n",
       "\n",
       "    .dataframe tbody tr th {\n",
       "        vertical-align: top;\n",
       "    }\n",
       "\n",
       "    .dataframe thead th {\n",
       "        text-align: right;\n",
       "    }\n",
       "</style>\n",
       "<table border=\"1\" class=\"dataframe\">\n",
       "  <thead>\n",
       "    <tr style=\"text-align: right;\">\n",
       "      <th></th>\n",
       "      <th>capacity</th>\n",
       "      <th>max_level</th>\n",
       "      <th>current_level</th>\n",
       "      <th>target_level</th>\n",
       "      <th>available_volume</th>\n",
       "      <th>notes</th>\n",
       "    </tr>\n",
       "  </thead>\n",
       "  <tbody>\n",
       "    <tr>\n",
       "      <th>0</th>\n",
       "      <td>100</td>\n",
       "      <td>95</td>\n",
       "      <td>20</td>\n",
       "      <td>90.0</td>\n",
       "      <td>70.0</td>\n",
       "      <td>Add 67: comprised of 11 + 56</td>\n",
       "    </tr>\n",
       "    <tr>\n",
       "      <th>1</th>\n",
       "      <td>100</td>\n",
       "      <td>95</td>\n",
       "      <td>0</td>\n",
       "      <td>90.0</td>\n",
       "      <td>90.0</td>\n",
       "      <td>Add 40</td>\n",
       "    </tr>\n",
       "    <tr>\n",
       "      <th>2</th>\n",
       "      <td>100</td>\n",
       "      <td>95</td>\n",
       "      <td>85</td>\n",
       "      <td>90.0</td>\n",
       "      <td>5.0</td>\n",
       "      <td>Add 2</td>\n",
       "    </tr>\n",
       "  </tbody>\n",
       "</table>\n",
       "</div>"
      ],
      "text/plain": [
       "   capacity  max_level  current_level  target_level  available_volume  \\\n",
       "0       100         95             20          90.0              70.0   \n",
       "1       100         95              0          90.0              90.0   \n",
       "2       100         95             85          90.0               5.0   \n",
       "\n",
       "                          notes  \n",
       "0  Add 67: comprised of 11 + 56  \n",
       "1                        Add 40  \n",
       "2                         Add 2  "
      ]
     },
     "execution_count": 2,
     "metadata": {},
     "output_type": "execute_result"
    }
   ],
   "source": [
    "target_fill_ratio = 0.9\n",
    "tanks_df = pd.DataFrame({\n",
    "    'capacity': [100, 100, 100],\n",
    "    'max_level': 95,\n",
    "    'current_level': [20, 0, 85],\n",
    "})\n",
    "tanks_df['target_level'] = target_fill_ratio * tanks_df.capacity\n",
    "tanks_df['available_volume'] = tanks_df.target_level - tanks_df.current_level\n",
    "tanks_df['notes'] = [\n",
    "        'Add 67: comprised of 11 + 56',\n",
    "        'Add 40',\n",
    "        'Add 2',\n",
    "    ]\n",
    "\n",
    "tanks_df"
   ]
  },
  {
   "cell_type": "code",
   "execution_count": 3,
   "id": "a2aae798",
   "metadata": {},
   "outputs": [],
   "source": [
    "tank_capacities = [100, 100, 100]\n",
    "current_fill_levels = [20, 0, 85]\n",
    "max_fill_levels = [95, 95, 95]\n",
    "target_fill_ratio = 0.9  # We want the tanks 90% full to the extent we can.\n",
    "all_tanks = range(len(tank_capacities))\n",
    "\n",
    "all_demands = [11, 56, 40, 2] # The proposed demands design to fit into particular tanks.\n",
    "expected_tanks = [0, 0, 1, 2] # The tank numbers we expect these to go to, for checking"
   ]
  },
  {
   "cell_type": "code",
   "execution_count": 4,
   "id": "ca32c747",
   "metadata": {},
   "outputs": [],
   "source": [
    "model = pywraplp.Solver.CreateSolver(\"CBC\")"
   ]
  },
  {
   "cell_type": "code",
   "execution_count": 5,
   "id": "c6254d30",
   "metadata": {},
   "outputs": [],
   "source": [
    "# Decision variables\n",
    "x_vars = {} # x_vars[demand, tank]: For each demand, which tank do we put it in\n",
    "for demand in all_demands:\n",
    "    for tank in all_tanks:\n",
    "        x_vars[demand, tank] = model.BoolVar(f'fill_{demand}_{tank}')\n"
   ]
  },
  {
   "cell_type": "code",
   "execution_count": 6,
   "id": "81315cb6",
   "metadata": {},
   "outputs": [],
   "source": [
    "# Constraint: Only one tank is chosen per demand\n",
    "for demand in all_demands:\n",
    "    tanks_used = [x_vars[demand, tank] for tank in all_tanks]\n",
    "    model.Add(sum(tanks_used) == 1)"
   ]
  },
  {
   "cell_type": "code",
   "execution_count": 7,
   "id": "d484a047",
   "metadata": {},
   "outputs": [],
   "source": [
    "# Objective: get tanks close to target level\n",
    "tank_deviations = [...] # We're not doing this, for the reasons discussed below."
   ]
  },
  {
   "cell_type": "markdown",
   "id": "f26dd42e",
   "metadata": {},
   "source": [
    "---\n",
    "\n",
    "## Issues with the above formulation\n",
    "\n",
    "* Trying to minimize the deviation using absolute values isn't going to work. No matter where we choose to put new demands, the sum of the deviations is always going to be the same.  If we used squared deviation this would be better, but that's non-linear.  There's nothing stopping it from putting small demands on pristine empty tanks, which we'd be better off saving for later.  Adding several empty tanks to tempt it would reveal this.\n",
    "* The \"target\" level thing is probably a heuristic, rather than an actual goal.  The actual goal is to load our tanks as efficiently as we can subject to the constraints.  The target level thing will make us perfectly optimize for something suboptimal, which subverts the whole reason we're using a solver for in the first place.\n",
    "\n",
    "What we're actually trying to do here is make choices to protect ourselves from the uncertainty of the future demand.  If we have perfect knowledge of our future demand then this becomes a simple exercise of placing all that.  But the reality is that we don't have perfect knowledge of the future demand. We have rough ideas and guesses about it, based on what we know about the past and what we know about the future, but we don't have perfect knowledge of future demand.  So we need to make choices in a way that we're in the best position we can be for satisfying the future demand.\n"
   ]
  },
  {
   "cell_type": "markdown",
   "id": "5f47ae8e",
   "metadata": {},
   "source": [
    "## Approach ideas\n",
    "\n",
    "**Monte Carlo**.  We could simulate future demands and place those as well, after we place our actual known demands.  We could do this many times, and do the optimization based on how many additional demands we were able to place.  This would force the choices for the known demands to be made in a way that puts us in the best position to handle future demands.\n",
    "\n",
    "**Localized Utilization Efficiency.** But let's think of what we're really trying to do here.  Whenever we choose a tank, we need to choose the tank where the remaining capacity best matches what we're trying to place there.  We just want to leave every tank either untouched, or if we do touch it, we want to fill it as much as possible.  So what if we were to \n",
    "directly model that as an optimization parameter? **If we touch a tank, optimize how close to full it was in the end.**\n",
    "\n",
    "So we're going to try an **objective function that minimizes the sum of the remaining capacity for the tanks we touched.**\n"
   ]
  },
  {
   "cell_type": "markdown",
   "id": "ccaa5d90",
   "metadata": {},
   "source": [
    "## Local Utilization Efficiency\n",
    "\n",
    "Let's do a new formulation of this that gives us a better playground for seeing how this works.  Changes we're making compared to what we were doing before:\n",
    "1. Drop the `target_level`.  That was a heuristic rather than being a real thing we're trying to optimize for.\n",
    "2. Add an additional tank to give the solver the opportunity to use a pristine tank when it should not.\n"
   ]
  },
  {
   "cell_type": "code",
   "execution_count": 8,
   "id": "5bf54270",
   "metadata": {},
   "outputs": [
    {
     "data": {
      "text/html": [
       "<div>\n",
       "<style scoped>\n",
       "    .dataframe tbody tr th:only-of-type {\n",
       "        vertical-align: middle;\n",
       "    }\n",
       "\n",
       "    .dataframe tbody tr th {\n",
       "        vertical-align: top;\n",
       "    }\n",
       "\n",
       "    .dataframe thead th {\n",
       "        text-align: right;\n",
       "    }\n",
       "</style>\n",
       "<table border=\"1\" class=\"dataframe\">\n",
       "  <thead>\n",
       "    <tr style=\"text-align: right;\">\n",
       "      <th></th>\n",
       "      <th>capacity</th>\n",
       "      <th>max_level</th>\n",
       "      <th>current_level</th>\n",
       "    </tr>\n",
       "  </thead>\n",
       "  <tbody>\n",
       "    <tr>\n",
       "      <th>0</th>\n",
       "      <td>100</td>\n",
       "      <td>95</td>\n",
       "      <td>20</td>\n",
       "    </tr>\n",
       "    <tr>\n",
       "      <th>1</th>\n",
       "      <td>100</td>\n",
       "      <td>95</td>\n",
       "      <td>0</td>\n",
       "    </tr>\n",
       "    <tr>\n",
       "      <th>2</th>\n",
       "      <td>100</td>\n",
       "      <td>95</td>\n",
       "      <td>80</td>\n",
       "    </tr>\n",
       "    <tr>\n",
       "      <th>3</th>\n",
       "      <td>100</td>\n",
       "      <td>95</td>\n",
       "      <td>0</td>\n",
       "    </tr>\n",
       "  </tbody>\n",
       "</table>\n",
       "</div>"
      ],
      "text/plain": [
       "   capacity  max_level  current_level\n",
       "0       100         95             20\n",
       "1       100         95              0\n",
       "2       100         95             80\n",
       "3       100         95              0"
      ]
     },
     "execution_count": 8,
     "metadata": {},
     "output_type": "execute_result"
    }
   ],
   "source": [
    "target_fill_ratio = 0.9\n",
    "tanks_df = pd.DataFrame({\n",
    "    'capacity': [100, 100, 100, 100],\n",
    "    'max_level': 95,\n",
    "    'current_level': [20, 0, 80, 0],\n",
    "})\n",
    "tanks_df\n",
    "#all_demands = tanks_df.expected_demands.explode().tolist()\n",
    "#all_demands\n"
   ]
  },
  {
   "cell_type": "code",
   "execution_count": 9,
   "id": "b0b4a252",
   "metadata": {},
   "outputs": [],
   "source": [
    "def add_expectations(raw_df: pd.DataFrame, expected_demands: List[List[int]]) -> pd.DataFrame:\n",
    "    \"\"\"Add information about what we expect to be placed and analysis.\"\"\"\n",
    "    df = raw_df.copy()\n",
    "    df['available_volume'] = df.max_level - df.current_level\n",
    "    df['expected_demands'] = expected_demands\n",
    "    df['expected_add'] = df['expected_demands'].apply(lambda x: sum(x))\n",
    "    df['new_level'] = df.current_level + df.expected_add\n",
    "    df['new_utilization'] = df.new_level / df.max_level\n",
    "    df['did_add'] = (df['expected_add'] > 0).astype(int) # True if we added something to this tank.\n",
    "    # In places where we added something to the tank then add the unused or stranded capacity.\n",
    "    df['unused_capacity'] = (df.max_level - df.new_level) * df.did_add\n",
    "    return df"
   ]
  },
  {
   "cell_type": "code",
   "execution_count": 10,
   "id": "5f680c90",
   "metadata": {},
   "outputs": [
    {
     "data": {
      "text/html": [
       "<div>\n",
       "<style scoped>\n",
       "    .dataframe tbody tr th:only-of-type {\n",
       "        vertical-align: middle;\n",
       "    }\n",
       "\n",
       "    .dataframe tbody tr th {\n",
       "        vertical-align: top;\n",
       "    }\n",
       "\n",
       "    .dataframe thead th {\n",
       "        text-align: right;\n",
       "    }\n",
       "</style>\n",
       "<table border=\"1\" class=\"dataframe\">\n",
       "  <thead>\n",
       "    <tr style=\"text-align: right;\">\n",
       "      <th></th>\n",
       "      <th>capacity</th>\n",
       "      <th>max_level</th>\n",
       "      <th>current_level</th>\n",
       "      <th>available_volume</th>\n",
       "      <th>expected_demands</th>\n",
       "      <th>expected_add</th>\n",
       "      <th>new_level</th>\n",
       "      <th>new_utilization</th>\n",
       "      <th>did_add</th>\n",
       "      <th>unused_capacity</th>\n",
       "    </tr>\n",
       "  </thead>\n",
       "  <tbody>\n",
       "    <tr>\n",
       "      <th>0</th>\n",
       "      <td>100</td>\n",
       "      <td>95</td>\n",
       "      <td>20</td>\n",
       "      <td>75</td>\n",
       "      <td>[11, 56]</td>\n",
       "      <td>67</td>\n",
       "      <td>87</td>\n",
       "      <td>0.915789</td>\n",
       "      <td>1</td>\n",
       "      <td>8</td>\n",
       "    </tr>\n",
       "    <tr>\n",
       "      <th>1</th>\n",
       "      <td>100</td>\n",
       "      <td>95</td>\n",
       "      <td>0</td>\n",
       "      <td>95</td>\n",
       "      <td>[40]</td>\n",
       "      <td>40</td>\n",
       "      <td>40</td>\n",
       "      <td>0.421053</td>\n",
       "      <td>1</td>\n",
       "      <td>55</td>\n",
       "    </tr>\n",
       "    <tr>\n",
       "      <th>2</th>\n",
       "      <td>100</td>\n",
       "      <td>95</td>\n",
       "      <td>80</td>\n",
       "      <td>15</td>\n",
       "      <td>[2]</td>\n",
       "      <td>2</td>\n",
       "      <td>82</td>\n",
       "      <td>0.863158</td>\n",
       "      <td>1</td>\n",
       "      <td>13</td>\n",
       "    </tr>\n",
       "    <tr>\n",
       "      <th>3</th>\n",
       "      <td>100</td>\n",
       "      <td>95</td>\n",
       "      <td>0</td>\n",
       "      <td>95</td>\n",
       "      <td>[]</td>\n",
       "      <td>0</td>\n",
       "      <td>0</td>\n",
       "      <td>0.000000</td>\n",
       "      <td>0</td>\n",
       "      <td>0</td>\n",
       "    </tr>\n",
       "  </tbody>\n",
       "</table>\n",
       "</div>"
      ],
      "text/plain": [
       "   capacity  max_level  current_level  available_volume expected_demands  \\\n",
       "0       100         95             20                75         [11, 56]   \n",
       "1       100         95              0                95             [40]   \n",
       "2       100         95             80                15              [2]   \n",
       "3       100         95              0                95               []   \n",
       "\n",
       "   expected_add  new_level  new_utilization  did_add  unused_capacity  \n",
       "0            67         87         0.915789        1                8  \n",
       "1            40         40         0.421053        1               55  \n",
       "2             2         82         0.863158        1               13  \n",
       "3             0          0         0.000000        0                0  "
      ]
     },
     "execution_count": 10,
     "metadata": {},
     "output_type": "execute_result"
    }
   ],
   "source": [
    "expected_demands = [[11,56], [40], [2], []]\n",
    "add_expectations(tanks_df, expected_demands)"
   ]
  },
  {
   "cell_type": "markdown",
   "id": "3803a391",
   "metadata": {},
   "source": [
    "Now notice if we had instead chosen to put the small `2` demand onto the empty row, the numbers look much different:"
   ]
  },
  {
   "cell_type": "code",
   "execution_count": 11,
   "id": "eae70ed2",
   "metadata": {},
   "outputs": [
    {
     "data": {
      "text/html": [
       "<div>\n",
       "<style scoped>\n",
       "    .dataframe tbody tr th:only-of-type {\n",
       "        vertical-align: middle;\n",
       "    }\n",
       "\n",
       "    .dataframe tbody tr th {\n",
       "        vertical-align: top;\n",
       "    }\n",
       "\n",
       "    .dataframe thead th {\n",
       "        text-align: right;\n",
       "    }\n",
       "</style>\n",
       "<table border=\"1\" class=\"dataframe\">\n",
       "  <thead>\n",
       "    <tr style=\"text-align: right;\">\n",
       "      <th></th>\n",
       "      <th>capacity</th>\n",
       "      <th>max_level</th>\n",
       "      <th>current_level</th>\n",
       "      <th>available_volume</th>\n",
       "      <th>expected_demands</th>\n",
       "      <th>expected_add</th>\n",
       "      <th>new_level</th>\n",
       "      <th>new_utilization</th>\n",
       "      <th>did_add</th>\n",
       "      <th>unused_capacity</th>\n",
       "    </tr>\n",
       "  </thead>\n",
       "  <tbody>\n",
       "    <tr>\n",
       "      <th>0</th>\n",
       "      <td>100</td>\n",
       "      <td>95</td>\n",
       "      <td>20</td>\n",
       "      <td>75</td>\n",
       "      <td>[11, 56]</td>\n",
       "      <td>67</td>\n",
       "      <td>87</td>\n",
       "      <td>0.915789</td>\n",
       "      <td>1</td>\n",
       "      <td>8</td>\n",
       "    </tr>\n",
       "    <tr>\n",
       "      <th>1</th>\n",
       "      <td>100</td>\n",
       "      <td>95</td>\n",
       "      <td>0</td>\n",
       "      <td>95</td>\n",
       "      <td>[40]</td>\n",
       "      <td>40</td>\n",
       "      <td>40</td>\n",
       "      <td>0.421053</td>\n",
       "      <td>1</td>\n",
       "      <td>55</td>\n",
       "    </tr>\n",
       "    <tr>\n",
       "      <th>2</th>\n",
       "      <td>100</td>\n",
       "      <td>95</td>\n",
       "      <td>80</td>\n",
       "      <td>15</td>\n",
       "      <td>[]</td>\n",
       "      <td>0</td>\n",
       "      <td>80</td>\n",
       "      <td>0.842105</td>\n",
       "      <td>0</td>\n",
       "      <td>0</td>\n",
       "    </tr>\n",
       "    <tr>\n",
       "      <th>3</th>\n",
       "      <td>100</td>\n",
       "      <td>95</td>\n",
       "      <td>0</td>\n",
       "      <td>95</td>\n",
       "      <td>[2]</td>\n",
       "      <td>2</td>\n",
       "      <td>2</td>\n",
       "      <td>0.021053</td>\n",
       "      <td>1</td>\n",
       "      <td>93</td>\n",
       "    </tr>\n",
       "  </tbody>\n",
       "</table>\n",
       "</div>"
      ],
      "text/plain": [
       "   capacity  max_level  current_level  available_volume expected_demands  \\\n",
       "0       100         95             20                75         [11, 56]   \n",
       "1       100         95              0                95             [40]   \n",
       "2       100         95             80                15               []   \n",
       "3       100         95              0                95              [2]   \n",
       "\n",
       "   expected_add  new_level  new_utilization  did_add  unused_capacity  \n",
       "0            67         87         0.915789        1                8  \n",
       "1            40         40         0.421053        1               55  \n",
       "2             0         80         0.842105        0                0  \n",
       "3             2          2         0.021053        1               93  "
      ]
     },
     "execution_count": 11,
     "metadata": {},
     "output_type": "execute_result"
    }
   ],
   "source": [
    "expected_demands = [[11,56], [40], [], [2]]\n",
    "add_expectations(tanks_df, expected_demands)"
   ]
  },
  {
   "cell_type": "markdown",
   "id": "dd9ecde9",
   "metadata": {},
   "source": [
    "## Solving using Utilization Efficiency"
   ]
  },
  {
   "cell_type": "markdown",
   "id": "8cd1cc97",
   "metadata": {},
   "source": [
    "The strategy we'll go for here is to optimize toward the minimum sum of `unused_capacity`.  The unused capacity isn't the full unused capacity, but only includes the unused capacities for things that we touched.\n",
    "\n",
    "We could optimize towards making the sum of those `new_utilization` numbers as low as possible, and that would sort of do what we want.  But instead our strategy will effectively ignore the `new_utilization` ratios. Instead we'll be focusing on the absolute numbers of the unused or stranded capacity (only when we deployed a demand there).  This is because we care more about the total magnitude of the stranded capacity than about the precise ways in which that fragmentation is happening."
   ]
  },
  {
   "cell_type": "markdown",
   "id": "2f70418b",
   "metadata": {},
   "source": [
    "Let's separate our problem into 3 components so that we can easily try different scenarios:\n",
    "1. State (how many tanks we have, and how much is in each)\n",
    "2. Demand\n",
    "3. Results\n",
    "\n",
    "Then we'll make a function that takes `(state, demand)` and returns a result."
   ]
  },
  {
   "cell_type": "markdown",
   "id": "95d1e63d",
   "metadata": {},
   "source": [
    "### Modelling the State"
   ]
  },
  {
   "cell_type": "markdown",
   "id": "fa99f678",
   "metadata": {},
   "source": [
    "`tanks_df` already models the state pretty well, so we'll just use that like it is."
   ]
  },
  {
   "cell_type": "code",
   "execution_count": 12,
   "id": "025b329f",
   "metadata": {},
   "outputs": [
    {
     "data": {
      "text/html": [
       "<div>\n",
       "<style scoped>\n",
       "    .dataframe tbody tr th:only-of-type {\n",
       "        vertical-align: middle;\n",
       "    }\n",
       "\n",
       "    .dataframe tbody tr th {\n",
       "        vertical-align: top;\n",
       "    }\n",
       "\n",
       "    .dataframe thead th {\n",
       "        text-align: right;\n",
       "    }\n",
       "</style>\n",
       "<table border=\"1\" class=\"dataframe\">\n",
       "  <thead>\n",
       "    <tr style=\"text-align: right;\">\n",
       "      <th></th>\n",
       "      <th>capacity</th>\n",
       "      <th>max_level</th>\n",
       "      <th>current_level</th>\n",
       "    </tr>\n",
       "  </thead>\n",
       "  <tbody>\n",
       "    <tr>\n",
       "      <th>0</th>\n",
       "      <td>100</td>\n",
       "      <td>95</td>\n",
       "      <td>20</td>\n",
       "    </tr>\n",
       "    <tr>\n",
       "      <th>1</th>\n",
       "      <td>100</td>\n",
       "      <td>95</td>\n",
       "      <td>0</td>\n",
       "    </tr>\n",
       "    <tr>\n",
       "      <th>2</th>\n",
       "      <td>100</td>\n",
       "      <td>95</td>\n",
       "      <td>80</td>\n",
       "    </tr>\n",
       "    <tr>\n",
       "      <th>3</th>\n",
       "      <td>100</td>\n",
       "      <td>95</td>\n",
       "      <td>0</td>\n",
       "    </tr>\n",
       "  </tbody>\n",
       "</table>\n",
       "</div>"
      ],
      "text/plain": [
       "   capacity  max_level  current_level\n",
       "0       100         95             20\n",
       "1       100         95              0\n",
       "2       100         95             80\n",
       "3       100         95              0"
      ]
     },
     "execution_count": 12,
     "metadata": {},
     "output_type": "execute_result"
    }
   ],
   "source": [
    "tanks_df"
   ]
  },
  {
   "cell_type": "markdown",
   "id": "aa5c15e1",
   "metadata": {},
   "source": [
    "### Modelling demand"
   ]
  },
  {
   "cell_type": "markdown",
   "id": "5028bd81",
   "metadata": {},
   "source": [
    "We'll model demands as a list of numbers representing the volumes that need to be placed somewhere in a tank."
   ]
  },
  {
   "cell_type": "code",
   "execution_count": 13,
   "id": "a3536b4e",
   "metadata": {},
   "outputs": [
    {
     "data": {
      "text/plain": [
       "[2, 11, 40, 56]"
      ]
     },
     "execution_count": 13,
     "metadata": {},
     "output_type": "execute_result"
    }
   ],
   "source": [
    "demands = [11, 56, 40, 2]\n",
    "random.shuffle(demands) # Shuffle because placing them top down is what we expect. Shake it up.\n",
    "demands"
   ]
  },
  {
   "cell_type": "markdown",
   "id": "87295f2e",
   "metadata": {},
   "source": [
    "### Solver Code"
   ]
  },
  {
   "cell_type": "markdown",
   "id": "c7b10902",
   "metadata": {},
   "source": [
    "Our solver will be a function that takes in the world state as a dataframe and the demands as a list.\n",
    "\n",
    "For modelling the results, we'll return a dataframe so this can be easily visualized."
   ]
  },
  {
   "cell_type": "code",
   "execution_count": 20,
   "id": "88ddcb65",
   "metadata": {},
   "outputs": [
    {
     "ename": "TypeError",
     "evalue": "in method 'Solver_NumVar', argument 3 of type 'double'",
     "output_type": "error",
     "traceback": [
      "\u001b[31m---------------------------------------------------------------------------\u001b[39m",
      "\u001b[31mTypeError\u001b[39m                                 Traceback (most recent call last)",
      "\u001b[36mCell\u001b[39m\u001b[36m \u001b[39m\u001b[32mIn[20]\u001b[39m\u001b[32m, line 1\u001b[39m\n\u001b[32m----> \u001b[39m\u001b[32m1\u001b[39m \u001b[43mtank_solve\u001b[49m\u001b[43m(\u001b[49m\u001b[43mtanks_df\u001b[49m\u001b[43m,\u001b[49m\u001b[43m \u001b[49m\u001b[43mdemands\u001b[49m\u001b[43m)\u001b[49m\n",
      "\u001b[36mFile \u001b[39m\u001b[32mE:\\proj\\solver-tutorials\\orlab\\src\\orlab\\exercise6.py:23\u001b[39m, in \u001b[36mtank_solve\u001b[39m\u001b[34m(tanks_df, demands)\u001b[39m\n\u001b[32m     21\u001b[39m stranded_vars = {}\n\u001b[32m     22\u001b[39m \u001b[38;5;28;01mfor\u001b[39;00m tank \u001b[38;5;129;01min\u001b[39;00m all_tanks:\n\u001b[32m---> \u001b[39m\u001b[32m23\u001b[39m     stranded_vars[tank] = \u001b[43mmodel\u001b[49m\u001b[43m.\u001b[49m\u001b[43mNumVar\u001b[49m\u001b[43m(\u001b[49m\u001b[32;43m0\u001b[39;49m\u001b[43m,\u001b[49m\u001b[43m \u001b[49m\u001b[43mtank_remaining\u001b[49m\u001b[43m[\u001b[49m\u001b[43mtank\u001b[49m\u001b[43m]\u001b[49m\u001b[43m,\u001b[49m\u001b[43m \u001b[49m\u001b[33;43mf\u001b[39;49m\u001b[33;43m'\u001b[39;49m\u001b[33;43mstranded_\u001b[39;49m\u001b[38;5;132;43;01m{\u001b[39;49;00m\u001b[43mtank\u001b[49m\u001b[38;5;132;43;01m}\u001b[39;49;00m\u001b[33;43m'\u001b[39;49m\u001b[43m)\u001b[49m\n\u001b[32m     25\u001b[39m \u001b[38;5;66;03m# Constraint: Each demand must be placed exactly once.\u001b[39;00m\n\u001b[32m     26\u001b[39m \u001b[38;5;28;01mfor\u001b[39;00m demand \u001b[38;5;129;01min\u001b[39;00m all_demands:\n",
      "\u001b[36mFile \u001b[39m\u001b[32me:\\proj\\solver-tutorials\\orlab\\.venv\\Lib\\site-packages\\ortools\\linear_solver\\pywraplp.py:188\u001b[39m, in \u001b[36mSolver.NumVar\u001b[39m\u001b[34m(self, lb, ub, name)\u001b[39m\n\u001b[32m    186\u001b[39m \u001b[38;5;28;01mdef\u001b[39;00m\u001b[38;5;250m \u001b[39m\u001b[34mNumVar\u001b[39m(\u001b[38;5;28mself\u001b[39m, lb, ub, name):\n\u001b[32m    187\u001b[39m \u001b[38;5;250m    \u001b[39m\u001b[33mr\u001b[39m\u001b[33;03m\"\"\"Creates a continuous variable.\"\"\"\u001b[39;00m\n\u001b[32m--> \u001b[39m\u001b[32m188\u001b[39m     \u001b[38;5;28;01mreturn\u001b[39;00m \u001b[43m_pywraplp\u001b[49m\u001b[43m.\u001b[49m\u001b[43mSolver_NumVar\u001b[49m\u001b[43m(\u001b[49m\u001b[38;5;28;43mself\u001b[39;49m\u001b[43m,\u001b[49m\u001b[43m \u001b[49m\u001b[43mlb\u001b[49m\u001b[43m,\u001b[49m\u001b[43m \u001b[49m\u001b[43mub\u001b[49m\u001b[43m,\u001b[49m\u001b[43m \u001b[49m\u001b[43mname\u001b[49m\u001b[43m)\u001b[49m\n",
      "\u001b[31mTypeError\u001b[39m: in method 'Solver_NumVar', argument 3 of type 'double'"
     ]
    }
   ],
   "source": [
    "tank_solve(tanks_df, demands)"
   ]
  },
  {
   "cell_type": "code",
   "execution_count": 15,
   "id": "6ad9b338",
   "metadata": {},
   "outputs": [
    {
     "data": {
      "text/html": [
       "<div>\n",
       "<style scoped>\n",
       "    .dataframe tbody tr th:only-of-type {\n",
       "        vertical-align: middle;\n",
       "    }\n",
       "\n",
       "    .dataframe tbody tr th {\n",
       "        vertical-align: top;\n",
       "    }\n",
       "\n",
       "    .dataframe thead th {\n",
       "        text-align: right;\n",
       "    }\n",
       "</style>\n",
       "<table border=\"1\" class=\"dataframe\">\n",
       "  <thead>\n",
       "    <tr style=\"text-align: right;\">\n",
       "      <th></th>\n",
       "      <th>capacity</th>\n",
       "      <th>max_level</th>\n",
       "      <th>current_level</th>\n",
       "    </tr>\n",
       "  </thead>\n",
       "  <tbody>\n",
       "    <tr>\n",
       "      <th>0</th>\n",
       "      <td>100</td>\n",
       "      <td>95</td>\n",
       "      <td>20</td>\n",
       "    </tr>\n",
       "    <tr>\n",
       "      <th>1</th>\n",
       "      <td>100</td>\n",
       "      <td>95</td>\n",
       "      <td>0</td>\n",
       "    </tr>\n",
       "    <tr>\n",
       "      <th>2</th>\n",
       "      <td>100</td>\n",
       "      <td>95</td>\n",
       "      <td>80</td>\n",
       "    </tr>\n",
       "    <tr>\n",
       "      <th>3</th>\n",
       "      <td>100</td>\n",
       "      <td>95</td>\n",
       "      <td>0</td>\n",
       "    </tr>\n",
       "  </tbody>\n",
       "</table>\n",
       "</div>"
      ],
      "text/plain": [
       "   capacity  max_level  current_level\n",
       "0       100         95             20\n",
       "1       100         95              0\n",
       "2       100         95             80\n",
       "3       100         95              0"
      ]
     },
     "execution_count": 15,
     "metadata": {},
     "output_type": "execute_result"
    }
   ],
   "source": [
    "tanks_df"
   ]
  },
  {
   "cell_type": "code",
   "execution_count": 18,
   "id": "c4f94c79",
   "metadata": {},
   "outputs": [],
   "source": [
    "x = tanks_df.max_level.astype(int) - tanks_df.current_level.astype(int)"
   ]
  },
  {
   "cell_type": "code",
   "execution_count": 19,
   "id": "d9e4e177",
   "metadata": {},
   "outputs": [
    {
     "data": {
      "text/plain": [
       "np.int64(95)"
      ]
     },
     "execution_count": 19,
     "metadata": {},
     "output_type": "execute_result"
    }
   ],
   "source": [
    "x[1]"
   ]
  },
  {
   "cell_type": "code",
   "execution_count": null,
   "id": "a91024f9",
   "metadata": {},
   "outputs": [],
   "source": []
  }
 ],
 "metadata": {
  "kernelspec": {
   "display_name": "ortools",
   "language": "python",
   "name": "python3"
  },
  "language_info": {
   "codemirror_mode": {
    "name": "ipython",
    "version": 3
   },
   "file_extension": ".py",
   "mimetype": "text/x-python",
   "name": "python",
   "nbconvert_exporter": "python",
   "pygments_lexer": "ipython3",
   "version": "3.12.8"
  }
 },
 "nbformat": 4,
 "nbformat_minor": 5
}
