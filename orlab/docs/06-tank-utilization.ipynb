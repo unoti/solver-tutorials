{
 "cells": [
  {
   "cell_type": "markdown",
   "id": "c64ac4ea",
   "metadata": {},
   "source": [
    "# Equations in OR-Tools"
   ]
  },
  {
   "cell_type": "markdown",
   "id": "de7bd31a",
   "metadata": {},
   "source": [
    "This notebook explores additional ways to model equations in OR Tools."
   ]
  },
  {
   "cell_type": "code",
   "execution_count": 2,
   "id": "47dc8f86",
   "metadata": {},
   "outputs": [],
   "source": [
    "from ortools.linear_solver import pywraplp\n",
    "import pandas as pd"
   ]
  },
  {
   "cell_type": "markdown",
   "id": "d84da8c8",
   "metadata": {},
   "source": [
    "In this simple example, we have 3 liquid tanks, each with a different capacity.  Each of the tanks has an amount of starting liquid in it at the start.  We would like the tanks to be as close to 90% full as we can.  We need to choose exactly one of the tanks to add some liquid to, and all of the newly added liquid must go into exactly one of the tanks.  Also each of the tanks has a max level for safety that has been established by the mechanical engineers."
   ]
  },
  {
   "cell_type": "markdown",
   "id": "2d9238e0",
   "metadata": {},
   "source": [
    "We want to model `deviation = abs(target_level - fill_level)`, but we are also trying to keep things linear for our modelling of the problem.  `abs()` is not linear, so we need to do a trick to allow us to model this.  The trick is to introduce an extra decision variable for each tank `deviation` and bind it to the absolute value with two inequalities which *are* linear:\n",
    "* *deviation* >= *expr*\n",
    "* *deviation* >= *-expr*\n",
    "\n",
    "Now if we minimize `deviation` that will be equivalent to minimizing `|expr|`."
   ]
  },
  {
   "cell_type": "markdown",
   "id": "e9d3104f",
   "metadata": {},
   "source": [
    "Let's design some data so that when we see the solution we know it did the right thing:"
   ]
  },
  {
   "cell_type": "code",
   "execution_count": null,
   "id": "6beec4b8",
   "metadata": {},
   "outputs": [
    {
     "data": {
      "text/html": [
       "<div>\n",
       "<style scoped>\n",
       "    .dataframe tbody tr th:only-of-type {\n",
       "        vertical-align: middle;\n",
       "    }\n",
       "\n",
       "    .dataframe tbody tr th {\n",
       "        vertical-align: top;\n",
       "    }\n",
       "\n",
       "    .dataframe thead th {\n",
       "        text-align: right;\n",
       "    }\n",
       "</style>\n",
       "<table border=\"1\" class=\"dataframe\">\n",
       "  <thead>\n",
       "    <tr style=\"text-align: right;\">\n",
       "      <th></th>\n",
       "      <th>capacity</th>\n",
       "      <th>max_level</th>\n",
       "      <th>current_level</th>\n",
       "      <th>target_level</th>\n",
       "      <th>available_volume</th>\n",
       "      <th>notes</th>\n",
       "    </tr>\n",
       "  </thead>\n",
       "  <tbody>\n",
       "    <tr>\n",
       "      <th>0</th>\n",
       "      <td>100</td>\n",
       "      <td>95</td>\n",
       "      <td>20</td>\n",
       "      <td>90.0</td>\n",
       "      <td>70.0</td>\n",
       "      <td>Add 67: comprised of 11 + 56</td>\n",
       "    </tr>\n",
       "    <tr>\n",
       "      <th>1</th>\n",
       "      <td>100</td>\n",
       "      <td>95</td>\n",
       "      <td>0</td>\n",
       "      <td>90.0</td>\n",
       "      <td>90.0</td>\n",
       "      <td>Add 40</td>\n",
       "    </tr>\n",
       "    <tr>\n",
       "      <th>2</th>\n",
       "      <td>100</td>\n",
       "      <td>95</td>\n",
       "      <td>85</td>\n",
       "      <td>90.0</td>\n",
       "      <td>5.0</td>\n",
       "      <td>Add 2</td>\n",
       "    </tr>\n",
       "  </tbody>\n",
       "</table>\n",
       "</div>"
      ],
      "text/plain": [
       "   capacity  max_level  current_level  target_level  available_volume  \\\n",
       "0       100         95             20          90.0              70.0   \n",
       "1       100         95              0          90.0              90.0   \n",
       "2       100         95             85          90.0               5.0   \n",
       "\n",
       "                          notes  \n",
       "0  Add 67: comprised of 11 + 56  \n",
       "1                        Add 40  \n",
       "2                         Add 2  "
      ]
     },
     "execution_count": 20,
     "metadata": {},
     "output_type": "execute_result"
    }
   ],
   "source": [
    "target_fill_ratio = 0.9\n",
    "tanks_df = pd.DataFrame({\n",
    "    'capacity': [100, 100, 100],\n",
    "    'max_level': 95,\n",
    "    'current_level': [20, 0, 85],\n",
    "})\n",
    "tanks_df['target_level'] = target_fill_ratio * tanks_df.capacity\n",
    "tanks_df['available_volume'] = tanks_df.target_level - tanks_df.current_level\n",
    "tanks_df['notes'] = [\n",
    "        'Add 67: comprised of 11 + 56',\n",
    "        'Add 40',\n",
    "        'Add 2',\n",
    "    ]\n",
    "\n",
    "tanks_df"
   ]
  },
  {
   "cell_type": "code",
   "execution_count": 24,
   "id": "a2aae798",
   "metadata": {},
   "outputs": [],
   "source": [
    "tank_capacities = [100, 100, 100]\n",
    "current_fill_levels = [20, 0, 85]\n",
    "max_fill_levels = [95, 95, 95]\n",
    "target_fill_ratio = 0.9  # We want the tanks 90% full to the extent we can.\n",
    "all_tanks = range(len(tank_capacities))\n",
    "\n",
    "all_demands = [11, 56, 40, 2] # The proposed demands design to fit into particular tanks.\n",
    "expected_tanks = [0, 0, 1, 2] # The tank numbers we expect these to go to, for checking"
   ]
  },
  {
   "cell_type": "code",
   "execution_count": 29,
   "id": "ca32c747",
   "metadata": {},
   "outputs": [],
   "source": [
    "model = pywraplp.Solver.CreateSolver(\"CBC\")"
   ]
  },
  {
   "cell_type": "code",
   "execution_count": 30,
   "id": "c6254d30",
   "metadata": {},
   "outputs": [],
   "source": [
    "# Decision variables\n",
    "x_vars = {} # x_vars[demand, tank]: For each demand, which tank do we put it in\n",
    "for demand in all_demands:\n",
    "    for tank in all_tanks:\n",
    "        x_vars[demand, tank] = model.BoolVar(f'fill_{demand}_{tank}')\n"
   ]
  },
  {
   "cell_type": "code",
   "execution_count": 33,
   "id": "81315cb6",
   "metadata": {},
   "outputs": [],
   "source": [
    "# Constraint: Only one tank is chosen per demand\n",
    "for demand in all_demands:\n",
    "    tanks_used = [x_vars[demand, tank] for tank in all_tanks]\n",
    "    model.Add(sum(tanks_used) == 1)"
   ]
  },
  {
   "cell_type": "code",
   "execution_count": 34,
   "id": "d484a047",
   "metadata": {},
   "outputs": [],
   "source": [
    "# Objective: get tanks close to target level\n",
    "tank_deviations = [...] # We're not doing this, for the reasons discussed below."
   ]
  },
  {
   "cell_type": "markdown",
   "id": "f26dd42e",
   "metadata": {},
   "source": [
    "---\n",
    "\n",
    "## Issues with the above formulation\n",
    "\n",
    "* Trying to minimize the deviation using absolute values isn't going to work. No matter where we choose to put new demands, the sum of the deviations is always going to be the same.  There's nothing stopping it from putting small demands on pristine empty tanks, which we'd be better off saving for later.  Adding several empty tanks to tempt it would reveal this.\n",
    "* The \"target\" level thing is probably a heuristic, rather than an actual goal.  The actual goal is to load our tanks as efficiently as we can subject to the constraints.  The target level thing will make us perfectly optimize for something suboptimal, which subverts the whole reason we're using a solver for in the first place.\n",
    "\n",
    "What we're actually trying to do here is make choices to protect ourselves from the uncertainty of the future demand.  If we have perfect knowledge of our future demand then this becomes a simple exercise of placing all that.  But the reality is that we don't have perfect knowledge of the future demand. We have rough ideas and guesses about it, based on what we know about the past and what we know about the future, but we don't have perfect knowledge of future demand.  So we need to make choices in a way that we're in the best position we can be for satisfying the future demand.\n"
   ]
  },
  {
   "cell_type": "markdown",
   "id": "5f47ae8e",
   "metadata": {},
   "source": [
    "## Approach ideas\n",
    "\n",
    "**Monte Carlo**.  We could simulate future demands and place those as well, after we place our actual known demands.  We could do this many times, and do the optimization based on how many additional demands we were able to place.  This would force the choices for the known demands to be made in a way that puts us in the best position to handle future demands.\n",
    "\n",
    "**Localized Utilization Efficiency.** But let's think of what we're really trying to do here.  Whenever we choose a tank, we need to choose the tank where the remaining capacity best matches what we're trying to place there.  We just want to leave every tank either untouched, or if we do touch it, we want to fill it as much as possible.  So what if we were to \n",
    "directly model that as an optimization parameter? **If we touch a tank, optimize how close to full it was in the end.**\n",
    "\n",
    "So we're going to try an **objective function that minimizes the sum of the remaining capacity for the tanks we touched.**\n"
   ]
  },
  {
   "cell_type": "markdown",
   "id": "ccaa5d90",
   "metadata": {},
   "source": [
    "## Local Utilization Efficiency\n",
    "\n",
    "Let's do a new formulation of this that gives us a better playground for seeing how this works.  Changes we're making compared to what we were doing before:\n",
    "1. Drop the `target_level`.  That was a heuristic rather than being a real thing we're trying to optimize for.\n",
    "2. Add an additional tank to give the solver the opportunity to use a pristine tank when it should not.\n"
   ]
  },
  {
   "cell_type": "code",
   "execution_count": 22,
   "id": "5bf54270",
   "metadata": {},
   "outputs": [
    {
     "data": {
      "text/html": [
       "<div>\n",
       "<style scoped>\n",
       "    .dataframe tbody tr th:only-of-type {\n",
       "        vertical-align: middle;\n",
       "    }\n",
       "\n",
       "    .dataframe tbody tr th {\n",
       "        vertical-align: top;\n",
       "    }\n",
       "\n",
       "    .dataframe thead th {\n",
       "        text-align: right;\n",
       "    }\n",
       "</style>\n",
       "<table border=\"1\" class=\"dataframe\">\n",
       "  <thead>\n",
       "    <tr style=\"text-align: right;\">\n",
       "      <th></th>\n",
       "      <th>capacity</th>\n",
       "      <th>max_level</th>\n",
       "      <th>current_level</th>\n",
       "      <th>available_volume</th>\n",
       "      <th>expected_demands</th>\n",
       "    </tr>\n",
       "  </thead>\n",
       "  <tbody>\n",
       "    <tr>\n",
       "      <th>0</th>\n",
       "      <td>100</td>\n",
       "      <td>95</td>\n",
       "      <td>20</td>\n",
       "      <td>75</td>\n",
       "      <td>[11, 56]</td>\n",
       "    </tr>\n",
       "    <tr>\n",
       "      <th>1</th>\n",
       "      <td>100</td>\n",
       "      <td>95</td>\n",
       "      <td>0</td>\n",
       "      <td>95</td>\n",
       "      <td>[40]</td>\n",
       "    </tr>\n",
       "    <tr>\n",
       "      <th>2</th>\n",
       "      <td>100</td>\n",
       "      <td>95</td>\n",
       "      <td>85</td>\n",
       "      <td>10</td>\n",
       "      <td>[2]</td>\n",
       "    </tr>\n",
       "    <tr>\n",
       "      <th>3</th>\n",
       "      <td>100</td>\n",
       "      <td>95</td>\n",
       "      <td>0</td>\n",
       "      <td>95</td>\n",
       "      <td>[]</td>\n",
       "    </tr>\n",
       "  </tbody>\n",
       "</table>\n",
       "</div>"
      ],
      "text/plain": [
       "   capacity  max_level  current_level  available_volume expected_demands\n",
       "0       100         95             20                75         [11, 56]\n",
       "1       100         95              0                95             [40]\n",
       "2       100         95             85                10              [2]\n",
       "3       100         95              0                95               []"
      ]
     },
     "execution_count": 22,
     "metadata": {},
     "output_type": "execute_result"
    }
   ],
   "source": [
    "target_fill_ratio = 0.9\n",
    "tanks_df = pd.DataFrame({\n",
    "    'capacity': [100, 100, 100, 100],\n",
    "    'max_level': 95,\n",
    "    'current_level': [20, 0, 85, 0],\n",
    "})\n",
    "tanks_df['available_volume'] = tanks_df.max_level - tanks_df.current_level\n",
    "# We're going to express the demands based on where we expect them to go for verification.\n",
    "tanks_df['expected_demands'] = [[11,56], [40], [2], []]\n",
    "tanks_df"
   ]
  },
  {
   "cell_type": "code",
   "execution_count": 20,
   "id": "3803a391",
   "metadata": {},
   "outputs": [
    {
     "data": {
      "text/plain": [
       "[11, 56, 40, 2]"
      ]
     },
     "execution_count": 20,
     "metadata": {},
     "output_type": "execute_result"
    }
   ],
   "source": [
    "all_demands = tanks_df.expected_demands.explode().tolist()\n",
    "all_demands\n"
   ]
  },
  {
   "cell_type": "code",
   "execution_count": null,
   "id": "982189ec",
   "metadata": {},
   "outputs": [],
   "source": []
  }
 ],
 "metadata": {
  "kernelspec": {
   "display_name": "ortools",
   "language": "python",
   "name": "python3"
  },
  "language_info": {
   "codemirror_mode": {
    "name": "ipython",
    "version": 3
   },
   "file_extension": ".py",
   "mimetype": "text/x-python",
   "name": "python",
   "nbconvert_exporter": "python",
   "pygments_lexer": "ipython3",
   "version": "3.12.8"
  }
 },
 "nbformat": 4,
 "nbformat_minor": 5
}
